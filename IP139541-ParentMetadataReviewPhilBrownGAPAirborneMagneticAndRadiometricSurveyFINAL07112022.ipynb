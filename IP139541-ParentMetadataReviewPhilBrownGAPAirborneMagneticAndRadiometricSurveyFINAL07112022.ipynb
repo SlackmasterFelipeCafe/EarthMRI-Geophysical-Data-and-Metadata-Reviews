{
 "cells": [
  {
   "cell_type": "markdown",
   "metadata": {},
   "source": [
    "<img align=\"left\" width=\"105\" height=\"105\" src=\"https://www.doi.gov/sites/doi.opengov.ibmcloud.com/themes/custom/doi_gov/logo.png\">\n",
    "\n",
    "\n",
    "<center><b>&nbsp;&nbsp;&nbsp;United States Department of the Interior</b></center>\n",
    "\n",
    "<center><b>&nbsp;&nbsp;&nbsp;U.S. GEOLOGICAL SURVEY</b></center>\n",
    "\n",
    "<center><b>Geology, Geophysics, and Geochemistry Science Center</b></center>\n",
    "<br>\n",
    "July 7, 2022\n",
    "\n",
    "<h1>Airborne horizontal magnetic gradient and radiometric survey over parts of southeast Missouri, southern Illinois and western Kentucky- The Gap survey, 2021 metadata and data review</h1>\n",
    "\n",
    "To:\tDylan Connell, Geophysicist Denver, Geology, Geophysics, and Geochemistry Science Center \n",
    "\n",
    "From: Philip J. Brown, Geophysicist, Denver, Geology, Geophysics, and Geochemistry Science Center\n",
    "\n",
    "Subject:\n",
    "<br>\n",
    "Metadata Review of, Airborne horizontal magnetic gradient and radiometric survey over parts of southeast Missouri, southern Illinois and western Kentucky- The Gap survey, 2021 <br>\n",
    "\n",
    "IP-134240 \n",
    "\n",
    "McCafferty, A.E. and Connell, D.M., 2022, Airborne horizontal-magnetic gradient and radiometric survey over parts of southeast Missouri, southern Illinois and western Kentucky- The Gap survey, 2021: U.S. Geological Survey data release, https://doi.org/10.5066/P9TK8KMM.\n",
    "\n",
    "https://www.sciencebase.gov/catalog/item/624347bfd34e22d73748d357\n",
    "\n",
    "This metadata was reviewed using the USGS checklists found on the G3 ScienceCenter DataManagment Intranet Sharepoint Site, https://doimspp.sharepoint.com/sites/GS-GGGSC/DM. \n",
    "\n",
    "Information on the status of this data release can be found at the DMTeam Data Release Tracking SharePoint Site, https://doimspp.sharepoint.com/sites/GGGSCDataManagementTeam/Lists/Data%20Release%20Tracking/Status%20View.aspx\n",
    "\n"
   ]
  },
  {
   "cell_type": "code",
   "execution_count": 26,
   "metadata": {},
   "outputs": [],
   "source": [
    "# Load required Libraries\n",
    "import sys\n",
    "import os\n",
    "import xml.etree.ElementTree as ET\n",
    "import pandas as pd\n",
    "import numpy as np\n",
    "from IPython.core.display import display\n",
    "from IPython.core.display import HTML\n",
    "from ipywidgets import *\n",
    "from IPython.display import display\n",
    "from IPython.html.widgets import widgets\n",
    "import datetime\n",
    "import dateutil.parser\n",
    "import time\n",
    "import ssl\n",
    "import json\n",
    "import sys\n",
    "import sciencebasepy as pysb\n",
    "#Create Function that allows one to implement markdown display when printing\n",
    "from IPython.display import Markdown, display\n",
    "def printmd(string):\n",
    "    display(Markdown(string))"
   ]
  },
  {
   "cell_type": "markdown",
   "metadata": {},
   "source": [
    "## **Parent Metadata Review -** ***MO20F0196_GAP_FGDCmetadata.xml***\n",
    "### 1)\tValidate metadata with validation tool (https://mrdata.usgs.gov/validation/) and note compliance issues:\n"
   ]
  },
  {
   "cell_type": "code",
   "execution_count": 2,
   "metadata": {},
   "outputs": [],
   "source": [
    "#Set paths metadata\n",
    "ChildPath = r\"C:\\CurrentWork\\DataReleaseReviews\\IP-139541Gap\\Parent\"\n",
    "ChildMetadata = 'MO20F0196_GAP_FGDCmetadataFINAL.xml'"
   ]
  },
  {
   "cell_type": "markdown",
   "metadata": {},
   "source": [
    "<h3>Validation of MO20F0196_GAP_FGDCmetadata.xml</h3>\n",
    "<pre>\n",
    "mp 2.9.52 - Peter N. Schweitzer (U.S. Geological Survey)\n",
    "Info: input file = phpjqg9A5.xml\n",
    "Info: process date = 20220707\n",
    "Info: process time = 12:28:56\n",
    "Error (line 128): Too many Place_Keyword_Thesaurus found in Place\n",
    "1 errors: 1 too_many\n",
    "<table class=\"table table-condensed table-bordered\">\n",
    "  <thead>\n",
    "    <tr>\n",
    "      <th scope=\"col\">Test</th>\n",
    "      <th scope=\"col\">Result</th>\n",
    "      <th scope=\"col\">Report</th>\n",
    "    </tr>\n",
    "  </thead>\n",
    "  <tbody style=\"font-size: small;\">\n",
    "    <tr>\n",
    "      <td>Online_Linkage</td>\n",
    "      <td style=\"background-color: #ff9999;\">Failure</td>\n",
    "      <td style=\"white-space: pre;\">Invalid Online_Linkage in Citation: &quot;https://doi.org/10.5066/P9TK8KMM&quot;\n",
    "Valid link in Citation: &quot;https://pubs.usgs.gov/fs/2019/3007/fs20193007.pdf&quot;\n",
    "Valid link in Network_Resource_Name: &quot;https://sciencebase.usgs.gov/manager/item/624347bfd34e22d73748d357/file/cl1nvlh99003q13pic5kt8ple&quot;\n",
    "Invalid Network_Resource_Name: &quot;https://www.sciencebase.gov/catalog/file/get/624347bfd34e22d73748d357?f=__disk__a7%2F97%2Fee%2Fa797ee1019a9f1bcd4798496c608d2efdb330644&quot;\n",
    "Network_Resource_Name suspicious or invalid link: &quot;JPG URL&quot;\n",
    "Invalid Network_Resource_Name: &quot;https://www.sciencebase.gov/catalog/file/get/624347bfd34e22d73748d357?f=__disk__4c%2F34%2F7f%2F4c347f624348773ec0ea51d0313fdce5010f9d2b&quot;\n",
    "Invalid Network_Resource_Name: &quot;https://www.sciencebase.gov/catalog/file/get/624347bfd34e22d73748d357?f=__disk__03%2Fc7%2F89%2F03c789934b0b4e0b4ba5de96af143e2b65e57505&quot;\n",
    "</td>\n",
    "    </tr>\n",
    "    <tr>\n",
    "      <td>ISO 19115 Topic Category</td>\n",
    "      <td style=\"background-color: #99ff99;\">Success</td>\n",
    "      <td style=\"white-space: pre;\">All 2 keywords are valid</td>\n",
    "    </tr>\n",
    "    <tr>\n",
    "      <td>USGS Thesaurus</td>\n",
    "      <td style=\"background-color: #ff9999;\">Failure</td>\n",
    "      <td style=\"white-space: pre;\">Unrecognized keyword: &quot;economy&quot;\n",
    "Unrecognized keyword: &quot;geoscientific information&quot;\n",
    "Unrecognized keyword: &quot;horizontal magnetic gradiometry&quot;</td>\n",
    "    </tr>\n",
    "    <tr>\n",
    "      <td>Common geographic areas</td>\n",
    "      <td style=\"background-color: #99ff99;\">Success</td>\n",
    "      <td style=\"white-space: pre;\">All 4 keywords are valid</td>\n",
    "    </tr>\n",
    "    <tr>\n",
    "      <td>USGS publication series</td>\n",
    "      <td style=\"background-color: #ff9999;\">Failure</td>\n",
    "      <td style=\"white-space: pre;\">Unrecognized series name &quot;Mapping the nations critical mineral resources: U.S. Geological Survey Fact Sheet 2019-3007&quot;</td>\n",
    "    </tr>\n",
    "    <tr>\n",
    "      <td>Format_Name</td>\n",
    "      <td style=\"background-color: #ff9999;\">Failure</td>\n",
    "      <td style=\"white-space: pre;\">Unrecognized format name: &quot;ZIP&quot;\n",
    "Unrecognized format name: &quot;SHP&quot;\n",
    "Unrecognized format name: &quot;SHP&quot;\n",
    "Non-preferred format name: &quot;PDF&quot;\n",
    "Non-preferred format name: &quot;JPG&quot;</td>\n",
    "    </tr>\n",
    "    <tr>\n",
    "      <td>Suggest terms</td>\n",
    "      <td style=\"background-color: #ffff99;\">Warning</td>\n",
    "      <td style=\"white-space: pre;\">No matching terms were found</td>\n",
    "    </tr>\n",
    "    <tr>\n",
    "      <td>Standard name, version</td>\n",
    "      <td style=\"background-color: #99ff99;\">Success</td>\n",
    "      <td style=\"white-space: pre;\">Metadata_Standard_Name is valid</td>\n",
    "    </tr>\n",
    "  </tbody>\n",
    "</table>"
   ]
  },
  {
   "cell_type": "markdown",
   "metadata": {},
   "source": [
    "> - Error (line 128): Too many Place_Keyword_Thesaurus found in Place.\n",
    "> - remove duplicate of [placekt] tag on line 128."
   ]
  },
  {
   "cell_type": "code",
   "execution_count": 27,
   "metadata": {},
   "outputs": [
    {
     "name": "stdout",
     "output_type": "stream",
     "text": [
      "C:\\CurrentWork\\DataReleaseReviews\\IP-139541Gap\\Parent\\MO20F0196_GAP_FGDCmetadataFINAL.xml\n"
     ]
    }
   ],
   "source": [
    "#open and parse metadata\n",
    "#Child1Path = r\"C:\\CurrentWork\\DataReleaseReviews\\IP-134240\\ParentFiles\"\n",
    "#Child1Metadata = 'SC19C0010_SCII_FallZone_FGDCmetadataCorrected.xml'\n",
    "\n",
    "ChildMetadataPath = ChildPath + \"\\\\\" + ChildMetadata\n",
    "print (ChildMetadataPath)\n",
    "ParentTree = ET.parse(ChildMetadataPath)\n",
    "root = ParentTree.getroot()"
   ]
  },
  {
   "cell_type": "markdown",
   "metadata": {},
   "source": [
    "### 2)\t The title conveys the “what, where, when, who, and (if applicable) scale” of the data; "
   ]
  },
  {
   "cell_type": "code",
   "execution_count": 28,
   "metadata": {},
   "outputs": [
    {
     "data": {
      "text/markdown": [
       "**Airborne horizontal magnetic gradient and radiometric survey over parts of southeast Missouri, southern Illinois and western Kentucky- The Gap survey, 2021**"
      ],
      "text/plain": [
       "<IPython.core.display.Markdown object>"
      ]
     },
     "metadata": {},
     "output_type": "display_data"
    },
    {
     "data": {
      "text/markdown": [
       "**The Earth MappingResources Initiative (Earth MRI)**"
      ],
      "text/plain": [
       "<IPython.core.display.Markdown object>"
      ]
     },
     "metadata": {},
     "output_type": "display_data"
    }
   ],
   "source": [
    "#Get title from metadata\n",
    "for citeinfo in root.iter('citeinfo'):\n",
    " title = citeinfo.find('title')\n",
    " printmd ('**' + title.text + '**')  "
   ]
  },
  {
   "cell_type": "markdown",
   "metadata": {},
   "source": [
    "> - No recommended changes to title"
   ]
  },
  {
   "cell_type": "markdown",
   "metadata": {},
   "source": [
    "### 3)\tThe abstract provides a short statement that allows users to quickly evaluate the content of the dataset:"
   ]
  },
  {
   "cell_type": "code",
   "execution_count": 5,
   "metadata": {},
   "outputs": [
    {
     "name": "stdout",
     "output_type": "stream",
     "text": [
      "This publication provides digital flight line data for a high-resolution horizontal magnetic gradient and radiometric survey over an area of southeast Missouri, southern Illinois, and western Kentucky. The survey was conducted in collaboration with the Missouri Geological Survey as part of the U.S. Geological Survey (USGS) Earth Mapping Resource Initiative (Earth MRI) effort (Day, 2019). Earth MRI is a cooperative effort between the USGS, the Association of American State Geologists, and other Federal, State, and private sector organizations to improve our knowledge of the geologic framework of the United States. Data for this survey were collected by Terraquest, Ltd. under contract with the USGS using a fixed-wing aircraft with magnetometers mounted in the tail stinger and each wing tip pod and a fully calibrated gamma ray spectrometer. The survey operated out of the Farmington, Missouri airport from March of 2021 to July of 2021. The survey covers a 88-kilometer x 160-kilometer area covering the major cities of Cape Giradeau, Illinois and Carbondale, Illinois. Data were collected along east-west flight lines spaced 250 meters (m) apart with north-south tie lines flown every 3500 m. A mean terrain clearance of 100 m was maintained except where safety dictated a higher elevation. A total of 64,233-line kilometers (km) of data were collected. Files that are available in this publication include flight line data for the magnetic gradient survey, flight line data for the radiometric survey and a report describing the survey parameters, field operations, quality control and data reduction procedures. A zip file is provided that contains the contractor's deliverable products that includes Geosoft databases and grids for the magnetic and radiometric survey and the report describing the survey and data reduction.\n",
      "\n",
      "The Gap survey was designed to fill the gap between two previous USGS airborne geophysical surveys. Adjacent surveys include magnetic and radiometric surveys flown in 2018 (McCafferty and Johnson, 2019) over southeast Missouri and western Illinois and a magnetic and radiometric survey flown in 2019 that is centered on the Hicks Dome area of Illinois (McCafferty and Brown, 2020).\n",
      "\n",
      "References:\n",
      "McCafferty, A.E., and Johnson, M.R., 2019, Airborne magnetic and radiometric survey, southeast Missouri and western Illinois, 2018-2019: U.S. Geological Survey data release, https://doi.org/10.5066/P9PBDSA1.\n",
      "\n",
      "McCafferty, A.E., and Brown, P.J., 2020, Airborne magnetic and radiometric survey, southeastern Illinois, western Kentucky, and southern Indiana, 2019: U.S. Geological Survey data release, https://doi.org/10.5066/P9R05B0M\n"
     ]
    }
   ],
   "source": [
    "#Get abstract from metadata\n",
    "for descript in root.iter('descript'):\n",
    " abstract = descript.find('abstract')\n",
    " purpose = descript.find('purpose')\n",
    " print (abstract.text) "
   ]
  },
  {
   "cell_type": "markdown",
   "metadata": {},
   "source": [
    "> - No recommendations to abstract"
   ]
  },
  {
   "cell_type": "code",
   "execution_count": 6,
   "metadata": {},
   "outputs": [
    {
     "name": "stdout",
     "output_type": "stream",
     "text": [
      "The airborne magnetic and radiometric survey was designed to augment and connect several previous USGS geophysical surveys in order to provide a continuous representation of the magnetic and radiometric fields from southeast Missouri to western Kentucky. These data will be used to better understand the surface and concealed geologic framework.\n"
     ]
    }
   ],
   "source": [
    "# Get Purpose from metadata\n",
    "print (purpose.text) "
   ]
  },
  {
   "cell_type": "markdown",
   "metadata": {},
   "source": [
    "> - No desired changes to purpose."
   ]
  },
  {
   "cell_type": "markdown",
   "metadata": {},
   "source": [
    "### 4)\tPerform quality checks on metadata:\n",
    "##### a.\tThe metadata matches the data and its correct version (e.g., is this metadata record describing the correct dataset? Sometimes existing metadata records are used as templates and some old information carries over to the new record: \n"
   ]
  },
  {
   "cell_type": "code",
   "execution_count": 7,
   "metadata": {},
   "outputs": [
    {
     "name": "stdout",
     "output_type": "stream",
     "text": [
      "<?xml version='1.0' encoding='utf8'?>\n",
      "<metadata>\n",
      "\t<idinfo>\n",
      "\t\t<citation>\n",
      "\t\t\t<citeinfo>\n",
      "\t\t\t\t<origin>Anne E. McCafferty</origin>\n",
      "\t\t\t\t<origin>Dylan M Connell</origin>\n",
      "\t\t\t\t<pubdate>20220404</pubdate>\n",
      "\t\t\t\t<title>Airborne horizontal magnetic gradient and radiometric survey over parts of southeast Missouri, southern Illinois and western Kentucky- The Gap survey, 2021</title>\n",
      "\t\t\t\t<geoform>tabular digital data</geoform>\n",
      "\t\t\t\t<pubinfo>\n",
      "\t\t\t\t\t<pubplace>Denver, CO</pubplace>\n",
      "\t\t\t\t\t<publish>U.S. Geological Survey</publish>\n",
      "\t\t\t\t</pubinfo>\n",
      "\t\t\t\t<othercit>Additional information about Originators: Ann E. McCafferty, https://orcid.org/0000-0001-5574-9201; Dylan M. Connell, https://orcid.org/0000-0001-8678-2776.  Suggested Citation: McCafferty, A.E. and Connell, D.M., 2022, Airborne horizontal-magnetic gradient and radiometric survey over parts of southeast Missouri, southern Illinois and western Kentucky- The Gap survey, 2021: U.S. Geological Survey data release, https://doi.org/10.5066/P9TK8KMM.</othercit>\n",
      "\t\t\t\t<onlink>https://doi.org/10.5066/P9TK8KMM</onlink>\n",
      "\t\t\t\t<lworkcit>\n",
      "\t\t\t\t\t<citeinfo>\n",
      "\t\t\t\t\t\t<origin>Day, W.D.</origin>\n",
      "\t\t\t\t\t\t<pubdate>2019</pubdate>\n",
      "\t\t\t\t\t\t<title>The Earth MappingResources Initiative (Earth MRI)</title>\n",
      "\t\t\t\t\t\t<edition>1.0</edition>\n",
      "\t\t\t\t\t\t<serinfo>\n",
      "\t\t\t\t\t\t\t<sername>Mapping the nations critical mineral resources: U.S. Geological Survey Fact Sheet 2019-3007</sername>\n",
      "\t\t\t\t\t\t\t<issue>2019-3007</issue>\n",
      "\t\t\t\t\t\t</serinfo>\n",
      "\t\t\t\t\t\t<pubinfo>\n",
      "\t\t\t\t\t\t\t<pubplace>Reston, VA</pubplace>\n",
      "\t\t\t\t\t\t\t<publish>United States Geological Survey</publish>\n",
      "\t\t\t\t\t\t</pubinfo>\n",
      "\t\t\t\t\t\t<othercit>Day, W.D., 2019, The Earth MappingResources Initiative (Earth MRI): Mapping the nations critical mineral resources: U.S. Geological Survey Fact Sheet 2019-3007, https://pubs.usgs.gov/fs/2019/3007/fs20193007.pdf.</othercit>\n",
      "\t\t\t\t\t\t<onlink>https://pubs.usgs.gov/fs/2019/3007/fs20193007.pdf</onlink>\n",
      "\t\t\t\t\t\t<onlink>https://permanent.fdlp.gov/gpo117974/fs20193007.pdf</onlink>\n",
      "\t\t\t\t\t\t<onlink>https://www.usgs.gov/special-topics/earth-mri</onlink>\n",
      "\t\t\t\t\t</citeinfo>\n",
      "\t\t\t\t</lworkcit>\n",
      "\t\t\t</citeinfo>\n",
      "\t\t</citation>\n",
      "\t\t<descript>\n",
      "\t\t\t<abstract>This publication provides digital flight line data for a high-resolution horizontal magnetic gradient and radiometric survey over an area of southeast Missouri, southern Illinois, and western Kentucky. The survey was conducted in collaboration with the Missouri Geological Survey as part of the U.S. Geological Survey (USGS) Earth Mapping Resource Initiative (Earth MRI) effort (Day, 2019). Earth MRI is a cooperative effort between the USGS, the Association of American State Geologists, and other Federal, State, and private sector organizations to improve our knowledge of the geologic framework of the United States. Data for this survey were collected by Terraquest, Ltd. under contract with the USGS using a fixed-wing aircraft with magnetometers mounted in the tail stinger and each wing tip pod and a fully calibrated gamma ray spectrometer. The survey operated out of the Farmington, Missouri airport from March of 2021 to July of 2021. The survey covers a 88-kilometer x 160-kilometer area covering the major cities of Cape Giradeau, Illinois and Carbondale, Illinois. Data were collected along east-west flight lines spaced 250 meters (m) apart with north-south tie lines flown every 3500 m. A mean terrain clearance of 100 m was maintained except where safety dictated a higher elevation. A total of 64,233-line kilometers (km) of data were collected. Files that are available in this publication include flight line data for the magnetic gradient survey, flight line data for the radiometric survey and a report describing the survey parameters, field operations, quality control and data reduction procedures. A zip file is provided that contains the contractor's deliverable products that includes Geosoft databases and grids for the magnetic and radiometric survey and the report describing the survey and data reduction.\n",
      "\n",
      "The Gap survey was designed to fill the gap between two previous USGS airborne geophysical surveys. Adjacent surveys include magnetic and radiometric surveys flown in 2018 (McCafferty and Johnson, 2019) over southeast Missouri and western Illinois and a magnetic and radiometric survey flown in 2019 that is centered on the Hicks Dome area of Illinois (McCafferty and Brown, 2020).\n",
      "\n",
      "References:\n",
      "McCafferty, A.E., and Johnson, M.R., 2019, Airborne magnetic and radiometric survey, southeast Missouri and western Illinois, 2018-2019: U.S. Geological Survey data release, https://doi.org/10.5066/P9PBDSA1.\n",
      "\n",
      "McCafferty, A.E., and Brown, P.J., 2020, Airborne magnetic and radiometric survey, southeastern Illinois, western Kentucky, and southern Indiana, 2019: U.S. Geological Survey data release, https://doi.org/10.5066/P9R05B0M</abstract>\n",
      "\t\t\t<purpose>The airborne magnetic and radiometric survey was designed to augment and connect several previous USGS geophysical surveys in order to provide a continuous representation of the magnetic and radiometric fields from southeast Missouri to western Kentucky. These data will be used to better understand the surface and concealed geologic framework.</purpose>\n",
      "\t\t\t<supplinf>Files that are available in this publication include flight line data for the magnetic survey in an ascii .csv file, flight line data for the radiometric survey in a netcdf file, geoTIFF images of the total magnetic intensity and radiometric ternary image of potassium, thorium, and uranium values, and a report describing the survey parameters, field operations, quality control and data reduction procedures. A zip file containing the contractor's deliverable products is also included and contains radiometric spectra in a geosoft format database (gdb).  Binary files in the original contractor package are readable using the free software \"Geosoft Viewer\" or commercial software \"Oasis montaj.\"\n",
      "\n",
      "Data null value is -1e32 for tabular data and (RGB value) 255,255,255 for raster data.\n",
      "\n",
      "MO20F0196_GAP_FGDCmetadata.xml\n",
      "MO20F0196_USGS_GAP_MagAnomMap_GapOverview.jpg\n",
      "MO20F0196_USGS_GAP-Geophysical_Airborne_Survey_Report.pdf\n",
      "USA-Gap-Airborne-Survey-2021_Footprint.shp\n",
      "USA-Gap-Airborne-Survey-2021_LinePath.shp\n",
      "MO20F0196_USGS_GAP_OrigContractorDeliverable.zip\n",
      "\n",
      "Other References:\n",
      "Day, W.D., 2019, The Earth Mapping Resources Initiative (Earth MRI): Mapping the nation's critical mineral resources: U.S. Geological Survey Fact Sheet 2019-3007, https://doi.org/10.3133/fs20193007.\n",
      "\n",
      "McCafferty, A.E., and Johnson, M.R., 2019, Airborne magnetic and radiometric survey, southeast Missouri and western Illinois, 2018-2019: U.S. Geological Survey data release, https://doi.org/10.5066/P9PBDSA1.\n",
      "\n",
      "McCafferty, A.E., and Brown, P.J., 2020, Airborne magnetic and radiometric survey, southeastern Illinois, western Kentucky, and southern Indiana, 2019: U.S. Geological Survey data release, https://doi.org/10.5066/P9R05B0M</supplinf>\n",
      "\t\t</descript>\n",
      "\t\t<timeperd>\n",
      "\t\t\t<timeinfo>\n",
      "\t\t\t\t<rngdates>\n",
      "\t\t\t\t\t<begdate>20200302</begdate>\n",
      "\t\t\t\t\t<enddate>20210420</enddate>\n",
      "\t\t\t\t</rngdates>\n",
      "\t\t\t</timeinfo>\n",
      "\t\t\t<current>ground condition</current>\n",
      "\t\t</timeperd>\n",
      "\t\t<status>\n",
      "\t\t\t<progress>Complete</progress>\n",
      "\t\t\t<update>None planned</update>\n",
      "\t\t</status>\n",
      "\t\t<spdom>\n",
      "\t\t\t<bounding>\n",
      "\t\t\t\t<westbc>-89.9509</westbc>\n",
      "\t\t\t\t<eastbc>-88.8396</eastbc>\n",
      "\t\t\t\t<northbc>38.2952</northbc>\n",
      "\t\t\t\t<southbc>36.8304</southbc>\n",
      "\t\t\t</bounding>\n",
      "\t\t</spdom>\n",
      "\t\t<keywords>\n",
      "\t\t\t<theme>\n",
      "\t\t\t\t<themekt>USGS Thesaurus</themekt>\n",
      "\t\t\t\t<themekey>economy</themekey>\n",
      "\t\t\t\t<themekey>geophysics</themekey>\n",
      "\t\t\t\t<themekey>geospatial datasets</themekey>\n",
      "\t\t\t\t<themekey>geoscientific information</themekey>\n",
      "\t\t\t\t<themekey>aeromagnetic surveying</themekey>\n",
      "\t\t\t\t<themekey>magnetic field (earth)</themekey>\n",
      "\t\t\t\t<themekey>horizontal magnetic gradiometry</themekey>\n",
      "\t\t\t\t<themekey>aeroradiometric surveying</themekey>\n",
      "\t\t\t\t<themekey>potassium</themekey>\n",
      "\t\t\t\t<themekey>uranium</themekey>\n",
      "\t\t\t\t<themekey>thorium</themekey>\n",
      "\t\t\t\t<themekey>radon</themekey>\n",
      "\t\t\t</theme>\n",
      "\t\t\t<theme>\n",
      "\t\t\t\t<themekt>none</themekt>\n",
      "\t\t\t\t<themekey>AASG</themekey>\n",
      "\t\t\t\t<themekey>Association of State Geologists</themekey>\n",
      "\t\t\t\t<themekey>Geology, Geophysics, and Geochemistry Science Center</themekey>\n",
      "\t\t\t\t<themekey>GGGSC</themekey>\n",
      "\t\t\t\t<themekey>Earth Mapping Resources Initiative</themekey>\n",
      "\t\t\t\t<themekey>EarthMRI</themekey>\n",
      "\t\t\t\t<themekey>horizontal magnetic gradiometry</themekey>\n",
      "\t\t\t\t<themekey>airborne geophysical survey</themekey>\n",
      "\t\t\t\t<themekey>Mineral Resources Program</themekey>\n",
      "\t\t\t\t<themekey>MRP</themekey>\n",
      "\t\t\t\t<themekey>Earthquake Hazards Program</themekey>\n",
      "\t\t\t\t<themekey>EHP</themekey>\n",
      "\t\t\t\t<themekey>National Cooperative Geologic Mapping Program</themekey>\n",
      "\t\t\t\t<themekey>NCGMP</themekey>\n",
      "\t\t\t\t<themekey>U.S. Geological Survey</themekey>\n",
      "\t\t\t\t<themekey>USGS</themekey>\n",
      "\t\t\t</theme>\n",
      "\t\t\t<theme>\n",
      "\t\t\t\t<themekt>ISO 19115 Topic Category</themekt>\n",
      "\t\t\t\t<themekey>geoscientificInformation</themekey>\n",
      "\t\t\t\t<themekey>economy</themekey>\n",
      "\t\t\t</theme>\n",
      "\t\t\t<place>\n",
      "\t\t\t\t<placekt>Geographic Names Information System (GNIS)</placekt>\n",
      "\t\t\t\t<placekt>Geographic Names Information System (GNIS)</placekt>\n",
      "\t\t\t\t<placekey>Ballard County</placekey>\n",
      "\t\t\t\t<placekey>Carlisle County</placekey> \n",
      "\t\t\t\t<placekey>Jackson County</placekey> \n",
      "\t\t\t\t<placekey>Jefferson County</placekey> \n",
      "\t\t\t\t<placekey>Johnson County</placekey> \n",
      "\t\t\t\t<placekey>Massac County</placekey> \n",
      "\t\t\t\t<placekey>Alexander County</placekey> \n",
      "\t\t\t\t<placekey>McCracken County</placekey> \n",
      "\t\t\t\t<placekey>Perry County</placekey> \n",
      "\t\t\t\t<placekey>Pulaski County</placekey> \n",
      "\t\t\t\t<placekey>Randolph County</placekey> \n",
      "\t\t\t\t<placekey>St. Clair County</placekey> \n",
      "\t\t\t\t<placekey>Union County</placekey> \n",
      "\t\t\t\t<placekey>Washington County</placekey> \n",
      "\t\t\t\t<placekey>Williamson County</placekey> \n",
      "\t\t\t\t<placekey>Franklin County</placekey> \n",
      "\t\t\t\t<placekey>Bollinger County</placekey> \n",
      "\t\t\t\t<placekey>Cape Girardeau County</placekey> \n",
      "\t\t\t\t<placekey>Mississippi County</placekey> \n",
      "\t\t\t\t<placekey>New Madrid County</placekey> \n",
      "\t\t\t\t<placekey>Perry County</placekey> \n",
      "\t\t\t\t<placekey>Scott County</placekey> \n",
      "\t\t\t\t<placekey>Stoddard County</placekey>\n",
      "\t\t\t\t<placekey>Cape Girardeau</placekey>\n",
      "\t\t\t</place>\n",
      "\t\t\t<place>\n",
      "\t\t\t\t<placekt>Common geographic areas</placekt>\n",
      "\t\t\t\t<placekey>United States</placekey>\n",
      "\t\t\t\t<placekey>Missouri</placekey>\n",
      "\t\t\t\t<placekey>Illinois</placekey>\n",
      "\t\t\t\t<placekey>Kentucky</placekey>\n",
      "\t\t\t</place>\n",
      "\t\t\t<place>\n",
      "\t\t\t\t<placekt>Types</placekt>\n",
      "\t\t\t\t<placekey>Downloadable</placekey>\n",
      "\t\t\t\t<placekey>GeoTIFF</placekey>\n",
      "\t\t\t\t<placekey>Map Service</placekey>\n",
      "\t\t\t\t<placekey>Rasters</placekey>\n",
      "\t\t\t</place>\n",
      "\t\t</keywords>\n",
      "\t\t<accconst>None. Please see 'Distribution Info' for details</accconst>\n",
      "\t\t<useconst>Any use of trade, firm, or product names is for descriptive purposes only and does not imply endorsement by the U.S. Government. Although these data have been processed successfully on a computer system at the U.S. Geological Survey (USGS), no warranty expressed or implied is made regarding the display or utility of the data for other purposes, nor on all computer systems, nor shall the act of distribution constitute any such warranty. The USGS or the U.S. Government shall not be held liable for improper or incorrect use of the data described and/or contained herein.</useconst>\n",
      "\t\t<ptcontac>\n",
      "\t\t\t<cntinfo>\n",
      "\t\t\t\t<cntperp>\n",
      "\t\t\t\t\t<cntper>Anne E. McCafferty</cntper>\n",
      "\t\t\t\t\t<cntorg>U.S. Geological Survey</cntorg>\n",
      "\t\t\t\t</cntperp>\n",
      "\t\t\t\t<cntpos>Research Geophysicist</cntpos>\n",
      "\t\t\t\t<cntaddr>\n",
      "\t\t\t\t\t<addrtype>mailing and physical</addrtype>\n",
      "\t\t\t\t\t<address>Box 25046, Mail Stop 973, Denver Federal Center, W 6th Ave and Kipling St</address>\n",
      "\t\t\t\t\t<city>Denver</city>\n",
      "\t\t\t\t\t<state>CO</state>\n",
      "\t\t\t\t\t<postal>80225</postal>\n",
      "\t\t\t\t\t<country>USA</country>\n",
      "\t\t\t\t</cntaddr>\n",
      "\t\t\t\t<cntvoice>303.236.1397</cntvoice>\n",
      "\t\t\t\t<cntemail>anne@usgs.gov</cntemail>\n",
      "\t\t\t</cntinfo>\n",
      "\t\t</ptcontac>\n",
      "\t\t<datacred>This release of the dataset was funded by the U.S. Geological Survey Earth Mapping Resource Initiative and the Missouri Department of Natural Resources Geological Survey.  The authors would like to thank the Missouri Geological Survey for providing funding for this study.</datacred>\n",
      "\t\t<native>The data were generated using commercially available software including Geosoft Oasis Montaj v. 9.9.1 and ESRI ArcMap v.10.8.1.</native>\n",
      "\t</idinfo>\n",
      "\t<dataqual>\n",
      "\t\t<attracc>\n",
      "\t\t\t<attraccr>Daily quality control of raw radiometric and magnetic data was performed by the contractor and is described in the contractor report. Further quality control measures occurred post flight by the contractor and USGS scientist-in-charge before approval and acceptance of the final data. The data have been peer reviewed and compared with related ancillary data.</attraccr>\n",
      "\t\t</attracc>\n",
      "\t\t<logic>Data were visually inspected for reasonableness and spatial consistency.</logic>\n",
      "\t\t<complete>Data set is considered complete for the information presented, as described in the abstract. Users are advised to read the rest of the metadata record carefully for additional details. All data as part of this collection were included in this data release for the region and time period specified in this metadata.</complete>\n",
      "\t\t<posacc>\n",
      "\t\t\t<horizpa>\n",
      "\t\t\t\t<horizpar>Field quality control and assurance procedures were undertaken by the Terraquest field crew and are described in the contractor's report included with this data release.</horizpar>\n",
      "\t\t\t</horizpa>\n",
      "\t\t\t<vertacc>\n",
      "\t\t\t\t<vertaccr>Field quality control and assurance procedures were undertaken by the Terraquest field crew and are described in the contractor's report included with this data release.</vertaccr>\n",
      "\t\t\t</vertacc>\n",
      "\t\t</posacc>\n",
      "\t\t<lineage>\n",
      "\t\t\t<procstep>\n",
      "\t\t\t\t<procdesc>The airborne survey was flown under contract to the U.S. Geological Survey by Terraquest, Ltd from March 16, 2021 to July 13, 2021. The magnetic data were acquired with 3 cesium vapor magnetometers. The radiometric data were acquired with radiation Solutions RS-500 gamma ray spectrometer. Data were collected along north-south flight lines spaced 250 meters (m) apart with east-west tie lines flown every 3500 m. A mean terrain clearance of 100 m was maintained; in some areas safety dictated a higher elevation. A total of 64,227.3 line-kilometers (km) of data were collected.</procdesc>\n",
      "\t\t\t\t<procdate>20210713</procdate>\n",
      "\t\t\t</procstep>\n",
      "\t\t\t<procstep>\n",
      "\t\t\t\t<procdesc>1) Lag Correction of Total Magnetic Field, 2) Diurnal Data and diurnal correction of Total Magnetic Field, 3) Total Magnetic Field Tie-Traverse Line Intersection Leveling, 4) Total Magnetic Field Micro-leveling, 5) Calculated Vertical Derivative, 6) Measured Horizontal Gradients, 7) Reconstructed Total Magnetic Field (RTF), 8) Data Gridding, 9) Magnetic Database Output</procdesc>\n",
      "\t\t\t\t<procdate>20211115</procdate>\n",
      "\t\t\t</procstep>\n",
      "\t\t\t<procstep>\n",
      "\t\t\t\t<procdesc>1) Energy Windows, 2) NASVD Noise Reduction, 3) Aircraft and Cosmic Background Correction, 4) Atmospheric Background Correction, 5) Compton Stripping, 6) Altitude Attenuation Correction, 7) Microleveling, 8) Conversion to Ground Units, 9) Gridding, 10) Radiometric Database</procdesc>\n",
      "\t\t\t\t<procdate>20211115</procdate>\n",
      "\t\t\t</procstep>\n",
      "\t\t\t<procstep>\n",
      "\t\t\t\t<procdesc>Final data and contractor's report were accepted and received by USGS from Terraquest Ltd</procdesc>\n",
      "\t\t\t\t<procdate>20211115</procdate>\n",
      "\t\t\t</procstep>\n",
      "\t\t\t<procstep>\n",
      "\t\t\t\t<procdesc>Final data were exported to CSV-format and NetCDF to meet open data requirements.</procdesc>\n",
      "\t\t\t\t<procdate>20220404</procdate>\n",
      "\t\t\t</procstep>\n",
      "\t\t\t<procstep>\n",
      "\t\t\t\t<procdesc>Shapefile of the locations of the airborne geophysical survey flightlines</procdesc>\n",
      "\t\t\t\t<procdate>20220404</procdate>\n",
      "\t\t\t</procstep>\n",
      "\t\t\t<procstep>\n",
      "\t\t\t\t<procdesc>Shapefile of the lateral extents of the airborne geophysical survey area</procdesc>\n",
      "\t\t\t\t<procdate>20220404</procdate>\n",
      "\t\t\t</procstep>\n",
      "\t\t</lineage>\n",
      "\t</dataqual>\n",
      "\t<spdoinfo>\n",
      "\t\t<direct>Vector</direct>\n",
      "\t</spdoinfo>\n",
      "\t<spref>\n",
      "\t\t<horizsys>\n",
      "\t\t\t<planar>\n",
      "\t\t\t\t<gridsys>\n",
      "\t\t\t\t\t<gridsysn>Universal Transverse Mercator</gridsysn>\n",
      "\t\t\t\t\t<utm>\n",
      "\t\t\t\t\t\t<utmzone>16</utmzone>\n",
      "\t\t\t\t\t\t<transmer>\n",
      "\t\t\t\t\t\t\t<sfctrmer>0.9996</sfctrmer>\n",
      "\t\t\t\t\t\t\t<longcm>-81</longcm>\n",
      "\t\t\t\t\t\t\t<latprjo>0</latprjo>\n",
      "\t\t\t\t\t\t\t<feast>500000</feast>\n",
      "\t\t\t\t\t\t\t<fnorth>0</fnorth>\n",
      "\t\t\t\t\t\t</transmer>\n",
      "\t\t\t\t\t</utm>\n",
      "\t\t\t\t</gridsys>\n",
      "\t\t\t\t<planci>\n",
      "\t\t\t\t\t<plance>coordinate pair</plance>\n",
      "\t\t\t\t\t<coordrep>\n",
      "\t\t\t\t\t\t<absres>0.6096</absres>\n",
      "\t\t\t\t\t\t<ordres>0.6096</ordres>\n",
      "\t\t\t\t\t</coordrep>\n",
      "\t\t\t\t\t<plandu>meter</plandu>\n",
      "\t\t\t\t</planci>\n",
      "\t\t\t</planar>\n",
      "\t\t\t<geodetic>\n",
      "\t\t\t\t<horizdn>World Geodetic System (WGS) 1984</horizdn>\n",
      "\t\t\t\t<ellips>WGS_1984</ellips>\n",
      "\t\t\t\t<semiaxis>6378137</semiaxis>\n",
      "\t\t\t\t<denflat>298.2572236</denflat>\n",
      "\t\t\t</geodetic>\n",
      "\t\t</horizsys>\n",
      "\t</spref>\n",
      "\t<eainfo>\n",
      "\t\t<detailed>\n",
      "\t\t\t<enttyp>\n",
      "\t\t\t\t<enttypl>MO20F0196_USGS_GAP_MagAnomMap_GapOverview.jpg</enttypl>\n",
      "\t\t\t\t<enttypd>3-band raster giving overview of aeromagnetic and radiometric data.  Data null value is -1e32 for tabular data and (RGB value) 255,255,255 for raster data.</enttypd>\n",
      "\t\t\t\t<enttypds>U.S. Geological Survey</enttypds>\n",
      "\t\t\t</enttyp>\n",
      "\t\t\t<attr>\n",
      "\t\t\t\t<attrlabl>Value</attrlabl>\n",
      "\t\t\t\t<attrdef>Unique numeric values contained in each raster cell.</attrdef>\n",
      "\t\t\t\t<attrdefs>U.S. Geological Survey</attrdefs>\n",
      "\t\t\t\t<attrdomv>\n",
      "\t\t\t\t\t<rdom>\n",
      "\t\t\t\t\t\t<rdommin>0</rdommin>\n",
      "\t\t\t\t\t\t<rdommax>255</rdommax>\n",
      "\t\t\t\t\t</rdom>\n",
      "\t\t\t\t</attrdomv>\n",
      "\t\t\t</attr>\n",
      "\t\t</detailed>\n",
      "\t\t<detailed>\n",
      "\t\t\t<enttyp>\n",
      "\t\t\t\t<enttypl>USA-Gap-Airborne-survey-2021_LinePath.shp</enttypl>\n",
      "\t\t\t\t<enttypd>Shapefile of the locations of the airborne geophysical survey flightlines</enttypd>\n",
      "\t\t\t\t<enttypds>U.S. Geological Survey</enttypds>\n",
      "\t\t\t</enttyp>\n",
      "\t\t\t<attr>\n",
      "\t\t\t\t<attrlabl>FID</attrlabl>\n",
      "\t\t\t\t<attrdef>Unique internal feature number managed by Esri</attrdef>\n",
      "\t\t\t\t<attrdefs>U.S. Geological Survey</attrdefs>\n",
      "\t\t\t\t<attrdomv>\n",
      "\t\t\t\t\t<rdom>\n",
      "\t\t\t\t\t\t<rdommin>0</rdommin>\n",
      "\t\t\t\t\t\t<rdommax>0</rdommax>\n",
      "\t\t\t\t\t\t<attrunit>integer</attrunit>\n",
      "\t\t\t\t\t</rdom>\n",
      "\t\t\t\t</attrdomv>\n",
      "\t\t\t</attr>\n",
      "\t\t\t<attr>\n",
      "\t\t\t\t<attrlabl>Shape</attrlabl>\n",
      "\t\t\t\t<attrdef>Internal feature geometry managed by Esri</attrdef>\n",
      "\t\t\t\t<attrdefs>U.S. Geological Survey</attrdefs>\n",
      "\t\t\t\t<attrdomv>\n",
      "\t\t\t\t\t<udom>geometry: Polyline</udom>\n",
      "\t\t\t\t</attrdomv>\n",
      "\t\t\t</attr>\n",
      "\t\t\t<attr>\n",
      "\t\t\t\t<attrlabl>ID</attrlabl>\n",
      "\t\t\t\t<attrdef>Original shape ID</attrdef>\n",
      "\t\t\t\t<attrdefs>U.S. Geological Survey</attrdefs>\n",
      "\t\t\t\t<attrdomv>\n",
      "\t\t\t\t\t<rdom>\n",
      "\t\t\t\t\t\t<rdommin>0</rdommin>\n",
      "\t\t\t\t\t\t<rdommax>1689</rdommax>\n",
      "\t\t\t\t\t\t<attrunit>numeric</attrunit>\n",
      "\t\t\t\t\t</rdom>\n",
      "\t\t\t\t</attrdomv>\n",
      "\t\t\t</attr>\n",
      "\t\t</detailed>\n",
      "\t\t<detailed>\n",
      "\t\t\t<enttyp>\n",
      "\t\t\t\t<enttypl>USA-Gap-Airborne-survey-2021_Footprint.shp</enttypl>\n",
      "\t\t\t\t<enttypd>Shapefile of the lateral extents of the airborne geophysical survey area</enttypd>\n",
      "\t\t\t\t<enttypds>U.S. Geological Survey</enttypds>\n",
      "\t\t\t</enttyp>\n",
      "\t\t\t<attr>\n",
      "\t\t\t\t<attrlabl>FID</attrlabl>\n",
      "\t\t\t\t<attrdef>Unique internal feature number managed by Esri</attrdef>\n",
      "\t\t\t\t<attrdefs>U.S. Geological Survey</attrdefs>\n",
      "\t\t\t\t<attrdomv>\n",
      "\t\t\t\t\t<rdom>\n",
      "\t\t\t\t\t\t<rdommin>0</rdommin>\n",
      "\t\t\t\t\t\t<rdommax>0</rdommax>\n",
      "\t\t\t\t\t\t<attrunit>integer</attrunit>\n",
      "\t\t\t\t\t</rdom>\n",
      "\t\t\t\t</attrdomv>\n",
      "\t\t\t</attr>\n",
      "\t\t\t<attr>\n",
      "\t\t\t\t<attrlabl>Shape</attrlabl>\n",
      "\t\t\t\t<attrdef>Internal feature geometry managed by Esri</attrdef>\n",
      "\t\t\t\t<attrdefs>U.S. Geological Survey</attrdefs>\n",
      "\t\t\t\t<attrdomv>\n",
      "\t\t\t\t\t<udom>geometry: Polygon</udom>\n",
      "\t\t\t\t</attrdomv>\n",
      "\t\t\t</attr>\n",
      "\t\t\t<attr>\n",
      "\t\t\t\t<attrlabl>ID</attrlabl>\n",
      "\t\t\t\t<attrdef>Original shape ID</attrdef>\n",
      "\t\t\t\t<attrdefs>U.S. Geological Survey</attrdefs>\n",
      "\t\t\t\t<attrdomv>\n",
      "\t\t\t\t\t<rdom>\n",
      "\t\t\t\t\t\t<rdommin>0</rdommin>\n",
      "\t\t\t\t\t\t<rdommax>0</rdommax>\n",
      "\t\t\t\t\t\t<attrunit>numeric</attrunit>\n",
      "\t\t\t\t\t</rdom>\n",
      "\t\t\t\t</attrdomv>\n",
      "\t\t\t</attr>\n",
      "\t\t</detailed>\n",
      "\t\t<overview>\n",
      "\t\t\t<eaover>Digital data package accepted by USGS from Terraquest, contains all delivered data products provided to USGS from the contractor in their original format. The contents of the package are described in the contractor's report.</eaover>\n",
      "\t\t\t<eadetcit>https://doi.org/10.5066/P9TK8KMM</eadetcit>\n",
      "\t\t</overview>\n",
      "\t\t<overview>\n",
      "\t\t\t<eaover>Survey report from Terraquest. This report describes the survey parameters, field operations, and quality control procedures used to produce the magnetic and radiometric data.</eaover>\n",
      "\t\t\t<eadetcit>https://doi.org/10.5066/P9TK8KMM</eadetcit>\n",
      "\t\t</overview>\n",
      "\t</eainfo>\n",
      "\t<distinfo>\n",
      "\t\t<distrib>\n",
      "\t\t\t<cntinfo>\n",
      "\t\t\t\t<cntorgp>\n",
      "\t\t\t\t\t<cntorg>U.S. Geological Survey - ScienceBase</cntorg>\n",
      "\t\t\t\t</cntorgp>\n",
      "\t\t\t\t<cntaddr>\n",
      "\t\t\t\t\t<addrtype>mailing and physical</addrtype>\n",
      "\t\t\t\t\t<address>Denver Federal Center, Building 810, Mail Stop 302</address>\n",
      "\t\t\t\t\t<city>Denver</city>\n",
      "\t\t\t\t\t<state>CO</state>\n",
      "\t\t\t\t\t<postal>80225</postal>\n",
      "\t\t\t\t\t<country>USA</country>\n",
      "\t\t\t\t</cntaddr>\n",
      "\t\t\t\t<cntvoice>1-888-275-8747</cntvoice>\n",
      "\t\t\t\t<cntemail>sciencebase@usgs.gov</cntemail>\n",
      "\t\t\t</cntinfo>\n",
      "\t\t</distrib>\n",
      "\t\t<resdesc>https://www.sciencebase.gov/catalog/item/624347bfd34e22d73748d357</resdesc>\n",
      "\t\t<distliab>Unless otherwise stated, all data, metadata and related materials are considered to satisfy the quality standards relative to the purpose for which the data were collected. Although these data and associated metadata have been reviewed for accuracy and completeness and approved for release by the U.S. Geological Survey (USGS), no warranty expressed or implied is made regarding the display or utility of the data for other purposes, nor on all computer systems, nor shall the act of distribution constitute any such warranty.</distliab>\n",
      "\t\t<stdorder>\n",
      "\t\t\t<digform>\n",
      "\t\t\t\t<digtinfo>\n",
      "\t\t\t\t\t<formname>ZIP</formname>\n",
      "\t\t\t\t\t<formvern>1</formvern>\n",
      "\t\t\t\t\t<formspec>MO20F0196_USGS_GAP_OrigContractorDeliverable.zip </formspec>\n",
      "\t\t\t\t\t<formcont>Contractor's survey report. This report describes the survey parameters, field operations, and quality control procedures used to produce the magnetic and radiometric data.</formcont>\n",
      "\t\t\t\t\t<filedec>Use a file extraction software such as WinZip, 7zip, Peazip.</filedec>\n",
      "\t\t\t\t\t<transize>3300</transize>\n",
      "\t\t\t\t</digtinfo>\n",
      "\t\t\t\t<digtopt>\n",
      "\t\t\t\t\t<onlinopt>\n",
      "\t\t\t\t\t\t<computer>\n",
      "\t\t\t\t\t\t\t<networka>\n",
      "\t\t\t\t\t\t\t\t<networkr>https://sciencebase.usgs.gov/manager/item/624347bfd34e22d73748d357/file/cl1nvlh99003q13pic5kt8ple</networkr>\n",
      "\t\t\t\t\t\t\t</networka>\n",
      "\t\t\t\t\t\t</computer>\n",
      "\t\t\t\t\t</onlinopt>\n",
      "\t\t\t\t</digtopt>\n",
      "\t\t\t</digform>\n",
      "\t\t\t<digform>\n",
      "\t\t\t\t<digtinfo>\n",
      "\t\t\t\t\t<formname>PDF</formname>\n",
      "\t\t\t\t\t<formvern>1</formvern>\n",
      "\t\t\t\t\t<formspec>MO20F0196_USGS_GAP-Geophysical_Airborne_Survey_Report.pdf</formspec>\n",
      "\t\t\t\t\t<formcont>Contractor's survey report. This report describes the survey parameters, field operations, and quality control procedures used to produce the magnetic and radiometric data.</formcont>\n",
      "\t\t\t\t\t<filedec>No compression applied </filedec>\n",
      "\t\t\t\t\t<transize>2.91</transize>\n",
      "\t\t\t\t</digtinfo>\n",
      "\t\t\t\t<digtopt>\n",
      "\t\t\t\t\t<onlinopt>\n",
      "\t\t\t\t\t\t<computer>\n",
      "\t\t\t\t\t\t\t<networka>\n",
      "\t\t\t\t\t\t\t\t<networkr>https://www.sciencebase.gov/catalog/file/get/624347bfd34e22d73748d357?f=__disk__a7%2F97%2Fee%2Fa797ee1019a9f1bcd4798496c608d2efdb330644</networkr>\n",
      "\t\t\t\t\t\t\t</networka>\n",
      "\t\t\t\t\t\t</computer>\n",
      "\t\t\t\t\t</onlinopt>\n",
      "\t\t\t\t</digtopt>\n",
      "\t\t\t</digform>\n",
      "\t\t\t<digform>\n",
      "\t\t\t\t<digtinfo>\n",
      "\t\t\t\t\t<formname>JPG</formname>\n",
      "\t\t\t\t\t<formvern>1</formvern>\n",
      "\t\t\t\t\t<formspec>MO20F0196_USGS_GAP_MagAnomMap_GapOverview.jpg</formspec>\n",
      "\t\t\t\t\t<formcont>J(oint) P(hotographic) E(xperts) Group (JPEG or JPG) raster image showing overview airborne magnetic and radiometric survey.</formcont>\n",
      "\t\t\t\t\t<filedec>No compression applied </filedec>\n",
      "\t\t\t\t\t<transize>6.2</transize>\n",
      "\t\t\t\t</digtinfo>\n",
      "\t\t\t\t<digtopt>\n",
      "\t\t\t\t\t<onlinopt>\n",
      "\t\t\t\t\t\t<computer>\n",
      "\t\t\t\t\t\t\t<networka>\n",
      "\t\t\t\t\t\t\t\t<networkr>JPG URL</networkr>\n",
      "\t\t\t\t\t\t\t</networka>\n",
      "\t\t\t\t\t\t</computer>\n",
      "\t\t\t\t\t</onlinopt>\n",
      "\t\t\t\t</digtopt>\n",
      "\t\t\t</digform>\n",
      "\t\t\t<digform>\n",
      "\t\t\t\t<digtinfo>\n",
      "\t\t\t\t\t<formname>SHP</formname>\n",
      "\t\t\t\t\t<formvern>1</formvern>\n",
      "\t\t\t\t\t<formspec>USA-Gap-Airborne-Survey-2021_Footprint.shp</formspec>\n",
      "\t\t\t\t\t<formcont>ESRI Shapefile format (formerly the Environmental Systems Research Institute, Inc.) vector GIS file of survey extents (boundaries). </formcont>\n",
      "\t\t\t\t\t<filedec>Use a file extraction software such as WinZip, 7zip, Peazip</filedec>\n",
      "\t\t\t\t\t<transize>0.001</transize>\n",
      "\t\t\t\t</digtinfo>\n",
      "\t\t\t\t<digtopt>\n",
      "\t\t\t\t\t<onlinopt>\n",
      "\t\t\t\t\t\t<computer>\n",
      "\t\t\t\t\t\t\t<networka>\n",
      "\t\t\t\t\t\t\t\t<networkr>https://www.sciencebase.gov/catalog/file/get/624347bfd34e22d73748d357?f=__disk__4c%2F34%2F7f%2F4c347f624348773ec0ea51d0313fdce5010f9d2b</networkr>\n",
      "\t\t\t\t\t\t\t</networka>\n",
      "\t\t\t\t\t\t</computer>\n",
      "\t\t\t\t\t</onlinopt>\n",
      "\t\t\t\t</digtopt>\n",
      "\t\t\t</digform>\n",
      "\t\t\t<digform>\n",
      "\t\t\t\t<digtinfo>\n",
      "\t\t\t\t\t<formname>SHP</formname>\n",
      "\t\t\t\t\t<formvern>1</formvern>\n",
      "\t\t\t\t\t<formspec>USA-Gap-Airborne-Survey-2021_LinePath.shp</formspec>\n",
      "\t\t\t\t\t<formcont>ESRI Shapefile format (formerly the Environmental Systems Research Institute, Inc.) vector GIS file of survey flightlines. </formcont>\n",
      "\t\t\t\t\t<filedec>Use a file extraction software such as WinZip, 7zip, Peazip</filedec>\n",
      "\t\t\t\t\t<transize>2.41</transize>\n",
      "\t\t\t\t</digtinfo>\n",
      "\t\t\t\t<digtopt>\n",
      "\t\t\t\t\t<onlinopt>\n",
      "\t\t\t\t\t\t<computer>\n",
      "\t\t\t\t\t\t\t<networka>\n",
      "\t\t\t\t\t\t\t\t<networkr>https://www.sciencebase.gov/catalog/file/get/624347bfd34e22d73748d357?f=__disk__03%2Fc7%2F89%2F03c789934b0b4e0b4ba5de96af143e2b65e57505</networkr>\n",
      "\t\t\t\t\t\t\t</networka>\n",
      "\t\t\t\t\t\t</computer>\n",
      "\t\t\t\t\t</onlinopt>\n",
      "\t\t\t\t</digtopt>\n",
      "\t\t\t</digform>\n",
      "\t\t\t<fees>none</fees>\n",
      "\t\t</stdorder>\n",
      "\t</distinfo>\n",
      "\t<metainfo>\n",
      "\t\t<metd>20220526</metd>\n",
      "\t\t<metc>\n",
      "\t\t\t<cntinfo>\n",
      "\t\t\t\t<cntperp>\n",
      "\t\t\t\t\t<cntper>Dylan M Connell</cntper>\n",
      "\t\t\t\t\t<cntorg>U.S. Geological Survey</cntorg>\n",
      "\t\t\t\t</cntperp>\n",
      "\t\t\t\t<cntpos>Geophysicist</cntpos>\n",
      "\t\t\t\t<cntaddr>\n",
      "\t\t\t\t\t<addrtype>mailing and physical</addrtype>\n",
      "\t\t\t\t\t<address>Box 25046, Mail Stop 964, Denver Federal Center, W 6th Ave and Kipling St</address>\n",
      "\t\t\t\t\t<city>Denver</city>\n",
      "\t\t\t\t\t<state>CO</state>\n",
      "\t\t\t\t\t<postal>80225</postal>\n",
      "\t\t\t\t\t<country>USA</country>\n",
      "\t\t\t\t</cntaddr>\n",
      "\t\t\t\t<cntvoice>n/a</cntvoice>\n",
      "\t\t\t\t<cntemail>dconnell@usgs.gov</cntemail>\n",
      "\t\t\t\t<cntemail>dconnell@usgs.gov</cntemail>\n",
      "\t\t\t</cntinfo>\n",
      "\t\t</metc>\n",
      "\t\t<metstdn>Content Standard for Digital Geospatial Metadata</metstdn>\n",
      "\t\t<metstdv>FGDC-STD-001-1998</metstdv>\n",
      "\t</metainfo>\n",
      "</metadata>\n"
     ]
    }
   ],
   "source": [
    "# Get metadata and print it out\n",
    "metaData = ET.tostring(root, encoding='utf8').decode('utf8')\n",
    "print(metaData)"
   ]
  },
  {
   "cell_type": "code",
   "execution_count": 8,
   "metadata": {},
   "outputs": [
    {
     "name": "stdout",
     "output_type": "stream",
     "text": [
      "Username:  pbrown@usgs.gov\n",
      "········\n"
     ]
    },
    {
     "data": {
      "text/plain": [
       "{'fullDisplayName': 'Philip J Brown II [pbrown@usgs.gov]',\n",
       " 'isLoggedIn': True,\n",
       " 'jossoSessionId': '960B6E7949667E7C1B1EEAC6DE0C835D',\n",
       " 'displayName': 'Philip J Brown II',\n",
       " 'email': 'pbrown@usgs.gov',\n",
       " 'username': 'pbrown@usgs.gov'}"
      ]
     },
     "execution_count": 8,
     "metadata": {},
     "output_type": "execute_result"
    }
   ],
   "source": [
    "#login to ScienceBase\n",
    "sb = pysb.SbSession()\n",
    "username = input(\"Username:  \")\n",
    "sb.loginc(str(username))\n",
    "#Check to see if login is successful\n",
    "sb.is_logged_in()\n",
    "#Get the ScienceBase Login session info\n",
    "sb.get_session_info()"
   ]
  },
  {
   "cell_type": "code",
   "execution_count": 9,
   "metadata": {},
   "outputs": [
    {
     "name": "stdout",
     "output_type": "stream",
     "text": [
      "{\n",
      "  \"body\": \"This publication provides digital flight line data for a high-resolution horizontal magnetic gradient and radiometric survey over an area of southeast Missouri, southern Illinois, and western Kentucky. The survey was conducted in collaboration with the Missouri Geological Survey as part of the U.S. Geological Survey (USGS) Earth Mapping Resource Initiative (Earth MRI) effort (Day, 2019). Earth MRI is a cooperative effort between the USGS, the Association of American State Geologists, and other Federal, State, and private sector organizations to improve our knowledge of the geologic framework of the United States. Data for this survey were collected by Terraquest, Ltd. under contract with the USGS using a fixed-wing aircraft with magnetometers mounted in the tail stinger and each wing tip pod and a fully calibrated gamma ray spectrometer. The survey operated out of the Farmington, Missouri airport from March of 2021 to July of 2021. The survey covers a 88-kilometer x 160-kilometer area covering the major cities of Cape Giradeau, Illinois and Carbondale, Illinois. Data were collected along east-west flight lines spaced 250 meters (m) apart with north-south tie lines flown every 3500 m. A mean terrain clearance of 100 m was maintained except where safety dictated a higher elevation. A total of 64,233-line kilometers (km) of data were collected. Files that are available in this publication include flight line data for the magnetic gradient survey, flight line data for the radiometric survey and a report describing the survey parameters, field operations, quality control and data reduction procedures. A zip file is provided that contains the contractor's deliverable products that includes Geosoft databases and grids for the magnetic and radiometric survey and the report describing the survey and data reduction.<br>\\n<br>\\nThe Gap survey was designed to fill the gap between two previous USGS airborne geophysical surveys. Adjacent surveys include magnetic and radiometric surveys flown in 2018 (McCafferty and Johnson, 2019) over southeast Missouri and western Illinois and a magnetic and radiometric survey flown in 2019 that is centered on the Hicks Dome area of Illinois (McCafferty and Brown, 2020).<br>\\n<br>\\nReferences Cited:<br>\\n<br>\\nMcCafferty, A.E., and Johnson, M.R., 2019, Airborne magnetic and radiometric survey, southeast Missouri and western Illinois, 2018-2019: U.S. Geological Survey data release, https://doi.org/10.5066/P9PBDSA1<br>\\n<br>\\nMcCafferty, A.E., and Brown, P.J., 2020, Airborne magnetic and radiometric survey, southeastern Illinois, western Kentucky, and southern Indiana, 2019: U.S. Geological Survey data release, https://doi.org/10.5066/P9R05B0M<br>\\n&nbsp;\",\n",
      "  \"browseCategories\": [\n",
      "    \"Data Release - In Progress\",\n",
      "    \"Data\"\n",
      "  ],\n",
      "  \"browseTypes\": [\n",
      "    \"Shapefile\",\n",
      "    \"Downloadable\",\n",
      "    \"Map Service\",\n",
      "    \"OGC WMS Service\",\n",
      "    \"OGC WFS Layer\",\n",
      "    \"OGC WMS Layer\"\n",
      "  ],\n",
      "  \"citation\": \"McCafferty, A.E. and Connell, D.M., 2022, Airborne horizontal-magnetic gradient and radiometric survey over parts of southeast Missouri, southern Illinois and western Kentucky- The Gap survey, 2021: U.S. Geological Survey data release, https://doi.org/10.5066/P9TK8KMM.\",\n",
      "  \"contacts\": [\n",
      "    {\n",
      "      \"active\": true,\n",
      "      \"contactType\": \"person\",\n",
      "      \"email\": \"anne@usgs.gov\",\n",
      "      \"firstName\": \"Anne\",\n",
      "      \"jobTitle\": \"Research Geophysicist\",\n",
      "      \"lastName\": \"McCafferty\",\n",
      "      \"middleName\": \"E\",\n",
      "      \"name\": \"Anne E McCafferty\",\n",
      "      \"oldPartyId\": 6653,\n",
      "      \"onlineResource\": \"https://www.usgs.gov/staff-profiles/anne-e-mccafferty\",\n",
      "      \"orcId\": \"0000-0001-5574-9201\",\n",
      "      \"organization\": {\n",
      "        \"displayText\": \"Geology, Geophysics, and Geochemistry Science Center\"\n",
      "      },\n",
      "      \"personalTitle\": \"Ms.\",\n",
      "      \"primaryLocation\": {\n",
      "        \"building\": \"DFC Bldg 20\",\n",
      "        \"buildingCode\": \"KAC\",\n",
      "        \"faxPhone\": \"3032361425\",\n",
      "        \"mailAddress\": {\n",
      "          \"city\": \"Denver\",\n",
      "          \"country\": \"USA\",\n",
      "          \"line1\": \"Box 25046, Denver Federal Center, Mail Stop 964\",\n",
      "          \"mailStopCode\": \"964\",\n",
      "          \"state\": \"CO\",\n",
      "          \"zip\": \"80225-0046\"\n",
      "        },\n",
      "        \"name\": \"Anne E McCafferty/GD/USGS/DOI - Primary Location\",\n",
      "        \"officePhone\": \"3032361397\",\n",
      "        \"streetAddress\": {\n",
      "          \"city\": \"Lakewood\",\n",
      "          \"country\": \"US\",\n",
      "          \"line1\": \"W 6th Ave Kipling St\",\n",
      "          \"state\": \"CO\",\n",
      "          \"zip\": \"80225\"\n",
      "        }\n",
      "      },\n",
      "      \"type\": \"Point of Contact\"\n",
      "    },\n",
      "    {\n",
      "      \"active\": true,\n",
      "      \"contactType\": \"person\",\n",
      "      \"email\": \"anne@usgs.gov\",\n",
      "      \"firstName\": \"Anne\",\n",
      "      \"jobTitle\": \"Research Geophysicist\",\n",
      "      \"lastName\": \"McCafferty\",\n",
      "      \"middleName\": \"E\",\n",
      "      \"name\": \"Anne E McCafferty\",\n",
      "      \"oldPartyId\": 6653,\n",
      "      \"onlineResource\": \"https://www.usgs.gov/staff-profiles/anne-e-mccafferty\",\n",
      "      \"orcId\": \"0000-0001-5574-9201\",\n",
      "      \"organization\": {\n",
      "        \"displayText\": \"Geology, Geophysics, and Geochemistry Science Center\"\n",
      "      },\n",
      "      \"personalTitle\": \"Ms.\",\n",
      "      \"primaryLocation\": {\n",
      "        \"building\": \"DFC Bldg 20\",\n",
      "        \"buildingCode\": \"KAC\",\n",
      "        \"faxPhone\": \"3032361425\",\n",
      "        \"mailAddress\": {\n",
      "          \"city\": \"Denver\",\n",
      "          \"country\": \"USA\",\n",
      "          \"line1\": \"Box 25046, Denver Federal Center, Mail Stop 964\",\n",
      "          \"mailStopCode\": \"964\",\n",
      "          \"state\": \"CO\",\n",
      "          \"zip\": \"80225-0046\"\n",
      "        },\n",
      "        \"name\": \"Anne E McCafferty/GD/USGS/DOI - Primary Location\",\n",
      "        \"officePhone\": \"3032361397\",\n",
      "        \"streetAddress\": {\n",
      "          \"city\": \"Lakewood\",\n",
      "          \"country\": \"US\",\n",
      "          \"line1\": \"W 6th Ave Kipling St\",\n",
      "          \"state\": \"CO\",\n",
      "          \"zip\": \"80225\"\n",
      "        }\n",
      "      },\n",
      "      \"type\": \"Originator\"\n",
      "    },\n",
      "    {\n",
      "      \"active\": true,\n",
      "      \"contactType\": \"person\",\n",
      "      \"email\": \"dconnell@usgs.gov\",\n",
      "      \"firstName\": \"Dylan\",\n",
      "      \"jobTitle\": \"Geophysicist\",\n",
      "      \"lastName\": \"Connell\",\n",
      "      \"middleName\": \"M\",\n",
      "      \"name\": \"Dylan M Connell\",\n",
      "      \"onlineResource\": \"https://www.usgs.gov/staff-profiles/dylan-connell\",\n",
      "      \"organization\": {\n",
      "        \"displayText\": \"Geology, Geophysics, and Geochemistry Science Center\"\n",
      "      },\n",
      "      \"primaryLocation\": {\n",
      "        \"buildingCode\": \"KAC\",\n",
      "        \"faxPhone\": \"3032361425\",\n",
      "        \"mailAddress\": {\n",
      "          \"city\": \"Denver\",\n",
      "          \"country\": \"USA\",\n",
      "          \"line1\": \"Box 25046, Denver Federal Center, Mail Stop 964\",\n",
      "          \"mailStopCode\": \"964\",\n",
      "          \"state\": \"CO\",\n",
      "          \"zip\": \"80225-0046\"\n",
      "        },\n",
      "        \"name\": \"Dylan Connell/GD/USGS/DOI - Primary Location\",\n",
      "        \"streetAddress\": {\n",
      "          \"city\": \"Lakewood\",\n",
      "          \"country\": \"US\",\n",
      "          \"line1\": \"W 6th Ave Kipling St\",\n",
      "          \"state\": \"CO\",\n",
      "          \"zip\": \"80225\"\n",
      "        }\n",
      "      },\n",
      "      \"type\": \"Metadata Contact\"\n",
      "    },\n",
      "    {\n",
      "      \"active\": true,\n",
      "      \"aliases\": [\n",
      "        \"{\\\"name\\\":\\\"Geological Survey (U.S.)\\\"}\",\n",
      "        \"{\\\"name\\\":\\\"USGS\\\"}\",\n",
      "        \"{\\\"name\\\":\\\"U.S. GEOLOGICAL SURVEY\\\"}\"\n",
      "      ],\n",
      "      \"contactType\": \"organization\",\n",
      "      \"fbmsCodes\": [\n",
      "        \"GG00000000\"\n",
      "      ],\n",
      "      \"logoUrl\": \"http://my.usgs.gov/static-cache/images/dataOwner/v1/logosMed/USGSLogo.gif\",\n",
      "      \"name\": \"U.S. Geological Survey\",\n",
      "      \"oldPartyId\": 18139,\n",
      "      \"onlineResource\": \"http://www.usgs.gov/\",\n",
      "      \"organization\": {},\n",
      "      \"primaryLocation\": {\n",
      "        \"mailAddress\": {},\n",
      "        \"name\": \"U.S. Geological Survey - Location\",\n",
      "        \"streetAddress\": {}\n",
      "      },\n",
      "      \"smallLogoUrl\": \"http://my.usgs.gov/static-cache/images/dataOwner/v1/logosSmall/USGSLogo.gif\",\n",
      "      \"type\": \"Publisher\"\n",
      "    },\n",
      "    {\n",
      "      \"contactType\": \"organization\",\n",
      "      \"email\": \"sciencebase@usgs.gov\",\n",
      "      \"name\": \"U.S. Geological Survey - ScienceBase\",\n",
      "      \"oldPartyId\": 70157,\n",
      "      \"onlineResource\": \"https://www.sciencebase.gov\",\n",
      "      \"organization\": {},\n",
      "      \"primaryLocation\": {\n",
      "        \"mailAddress\": {\n",
      "          \"city\": \"Denver\",\n",
      "          \"country\": \"United States\",\n",
      "          \"line1\": \"Denver Federal Center\",\n",
      "          \"line2\": \"Building 810\",\n",
      "          \"mailStopCode\": \"302\",\n",
      "          \"state\": \"CO\",\n",
      "          \"zip\": \"80225\"\n",
      "        },\n",
      "        \"name\": \"U.S. Geological Survey - ScienceBase - Location\",\n",
      "        \"officePhone\": \"18882758747\",\n",
      "        \"streetAddress\": {}\n",
      "      },\n",
      "      \"type\": \"Distributor\"\n",
      "    },\n",
      "    {\n",
      "      \"active\": true,\n",
      "      \"contactType\": \"organization\",\n",
      "      \"name\": \"Geology, Geophysics, and Geochemistry Science Center\",\n",
      "      \"oldPartyId\": 17386,\n",
      "      \"organization\": {},\n",
      "      \"primaryLocation\": {\n",
      "        \"mailAddress\": {},\n",
      "        \"name\": \"Denver Federal Center - DFC Bldg 20 [KAC]\",\n",
      "        \"streetAddress\": {}\n",
      "      },\n",
      "      \"type\": \"SDC Data Owner\"\n",
      "    },\n",
      "    {\n",
      "      \"contactType\": \"organization\",\n",
      "      \"name\": \"Energy and Minerals\",\n",
      "      \"organization\": {\n",
      "        \"directoryId\": \"64232\",\n",
      "        \"displayText\": \"Energy and Minerals\"\n",
      "      },\n",
      "      \"primaryLocation\": {\n",
      "        \"mailAddress\": {},\n",
      "        \"streetAddress\": {}\n",
      "      },\n",
      "      \"type\": \"USGS Mission Area\"\n",
      "    }\n",
      "  ],\n",
      "  \"dates\": [\n",
      "    {\n",
      "      \"dateString\": \"2022-04-04\",\n",
      "      \"label\": \"Publication Date\",\n",
      "      \"type\": \"Publication\"\n",
      "    },\n",
      "    {\n",
      "      \"dateString\": \"2020-03-02\",\n",
      "      \"label\": \"\",\n",
      "      \"type\": \"Start\"\n",
      "    },\n",
      "    {\n",
      "      \"dateString\": \"2021-04-20\",\n",
      "      \"label\": \"\",\n",
      "      \"type\": \"End\"\n",
      "    }\n",
      "  ],\n",
      "  \"distributionLinks\": [\n",
      "    {\n",
      "      \"files\": \"\",\n",
      "      \"name\": \"\",\n",
      "      \"rel\": \"alternate\",\n",
      "      \"title\": \"KML Service\",\n",
      "      \"type\": \"kml\",\n",
      "      \"typeLabel\": \"KML Download\",\n",
      "      \"uri\": \"https://www.sciencebase.gov/catalogMaps/mapping/ows/624347bfd34e22d73748d357?mode=download&request=kml&service=wms&layers=USA-Gap-Airborne-survey-2021_LinePath\"\n",
      "    },\n",
      "    {\n",
      "      \"files\": \"\",\n",
      "      \"name\": \"\",\n",
      "      \"rel\": \"alternate\",\n",
      "      \"title\": \"ScienceBase WMS Service\",\n",
      "      \"type\": \"serviceCapabilitiesUrl\",\n",
      "      \"typeLabel\": \"OGC Service Capabilities URL\",\n",
      "      \"uri\": \"https://www.sciencebase.gov/catalogMaps/mapping/ows/624347bfd34e22d73748d357?service=wms&request=getcapabilities&version=1.3.0\"\n",
      "    },\n",
      "    {\n",
      "      \"files\": \"\",\n",
      "      \"name\": \"\",\n",
      "      \"rel\": \"alternate\",\n",
      "      \"title\": \"ScienceBase WFS Service\",\n",
      "      \"type\": \"serviceCapabilitiesUrl\",\n",
      "      \"typeLabel\": \"OGC Service Capabilities URL\",\n",
      "      \"uri\": \"https://www.sciencebase.gov/catalogMaps/mapping/ows/624347bfd34e22d73748d357?service=wfs&request=getcapabilities&version=1.0.0\"\n",
      "    },\n",
      "    {\n",
      "      \"files\": \"\",\n",
      "      \"name\": \"\",\n",
      "      \"rel\": \"alternate\",\n",
      "      \"title\": \"ScienceBase Collection JSON\",\n",
      "      \"type\": \"repo\",\n",
      "      \"typeLabel\": \"ScienceBase Repository\",\n",
      "      \"uri\": \"https://www.sciencebase.gov/catalog/items?parentId=624347bfd34e22d73748d357&format=json\"\n",
      "    },\n",
      "    {\n",
      "      \"files\": \"\",\n",
      "      \"name\": \"\",\n",
      "      \"rel\": \"alternate\",\n",
      "      \"title\": \"ScienceBase Collection ATOM\",\n",
      "      \"type\": \"repo\",\n",
      "      \"typeLabel\": \"ScienceBase Repository\",\n",
      "      \"uri\": \"https://www.sciencebase.gov/catalog/items?parentId=624347bfd34e22d73748d357&format=atom\"\n",
      "    },\n",
      "    {\n",
      "      \"files\": \"\",\n",
      "      \"name\": \"\",\n",
      "      \"rel\": \"alternate\",\n",
      "      \"title\": \"ScienceBase Collection CSV\",\n",
      "      \"type\": \"repo\",\n",
      "      \"typeLabel\": \"ScienceBase Repository\",\n",
      "      \"uri\": \"https://www.sciencebase.gov/catalog/items?parentId=624347bfd34e22d73748d357&format=csv\"\n",
      "    },\n",
      "    {\n",
      "      \"files\": \"\",\n",
      "      \"name\": \"\",\n",
      "      \"rel\": \"alternate\",\n",
      "      \"title\": \"ScienceBase OAI PMH Service\",\n",
      "      \"type\": \"oai-pmh\",\n",
      "      \"typeLabel\": \"OAI-PMH\",\n",
      "      \"uri\": \"https://www.sciencebase.gov/catalog/oai-pmh?verb=ListRecords&metadataPrefix=fgdc-orig&set=624347bfd34e22d73748d357\"\n",
      "    },\n",
      "    {\n",
      "      \"files\": \"\",\n",
      "      \"name\": \"\",\n",
      "      \"rel\": \"alternate\",\n",
      "      \"title\": \"ScienceBase CSW Service\",\n",
      "      \"type\": \"csw\",\n",
      "      \"typeLabel\": \"\",\n",
      "      \"uri\": \"https://www.sciencebase.gov/catalog/item/624347bfd34e22d73748d357/csw?service=CSW&version=2.0.2&request=GetRecords\"\n",
      "    },\n",
      "    {\n",
      "      \"files\": [\n",
      "        {\n",
      "          \"contentType\": \"application/unknown\",\n",
      "          \"name\": \"USA-Gap-Airborne-survey-2021_Footprint/USA-Gap-Airborne-survey-2021_Footprint.dbf\",\n",
      "          \"size\": 75,\n",
      "          \"title\": \"Survey Bounds\"\n",
      "        },\n",
      "        {\n",
      "          \"contentType\": \"text/plain\",\n",
      "          \"name\": \"USA-Gap-Airborne-survey-2021_Footprint/USA-Gap-Airborne-survey-2021_Footprint.prj\",\n",
      "          \"size\": 428,\n",
      "          \"title\": \"Survey Bounds\"\n",
      "        },\n",
      "        {\n",
      "          \"contentType\": \"x-gis/x-shapefile\",\n",
      "          \"name\": \"USA-Gap-Airborne-survey-2021_Footprint/USA-Gap-Airborne-survey-2021_Footprint.shp\",\n",
      "          \"size\": 284,\n",
      "          \"title\": \"Survey Bounds\"\n",
      "        },\n",
      "        {\n",
      "          \"contentType\": \"x-gis/x-shapefile\",\n",
      "          \"name\": \"USA-Gap-Airborne-survey-2021_Footprint/USA-Gap-Airborne-survey-2021_Footprint.shx\",\n",
      "          \"size\": 108,\n",
      "          \"title\": \"Survey Bounds\"\n",
      "        },\n",
      "        {\n",
      "          \"contentType\": \"text/plain\",\n",
      "          \"name\": \"USA-Gap-Airborne-survey-2021_LinePath/USA-Gap-Airborne-survey-2021_LinePath.dbf\",\n",
      "          \"size\": 15276,\n",
      "          \"title\": \"Survey Flightlines\"\n",
      "        },\n",
      "        {\n",
      "          \"contentType\": \"text/plain\",\n",
      "          \"name\": \"USA-Gap-Airborne-survey-2021_LinePath/USA-Gap-Airborne-survey-2021_LinePath.prj\",\n",
      "          \"size\": 428,\n",
      "          \"title\": \"Survey Flightlines\"\n",
      "        },\n",
      "        {\n",
      "          \"contentType\": \"x-gis/x-shapefile\",\n",
      "          \"name\": \"USA-Gap-Airborne-survey-2021_LinePath/USA-Gap-Airborne-survey-2021_LinePath.shp\",\n",
      "          \"size\": 3272708,\n",
      "          \"title\": \"Survey Flightlines\"\n",
      "        },\n",
      "        {\n",
      "          \"contentType\": \"x-gis/x-shapefile\",\n",
      "          \"name\": \"USA-Gap-Airborne-survey-2021_LinePath/USA-Gap-Airborne-survey-2021_LinePath.shx\",\n",
      "          \"size\": 13620,\n",
      "          \"title\": \"Survey Flightlines\"\n",
      "        },\n",
      "        {\n",
      "          \"contentType\": \"image/jpeg\",\n",
      "          \"name\": \"MO20F0196_USGS_GAP_MagAnomMap_GapOverview.jpg\",\n",
      "          \"size\": 6496396,\n",
      "          \"title\": \"Magnetic anomaly map of Gap and adjacent surveys\"\n",
      "        },\n",
      "        {\n",
      "          \"contentType\": \"application/zip\",\n",
      "          \"name\": \"MO20F0196_USGS_GAP_OrigContractorDeliverable.zip\",\n",
      "          \"size\": 3577030295,\n",
      "          \"title\": \"Contractor's deliverables: Geosoft grids and database\"\n",
      "        },\n",
      "        {\n",
      "          \"contentType\": \"application/pdf\",\n",
      "          \"name\": \"MO20F0196_USGS_GAP-Geophysical_Airborne_Survey_Report.pdf\",\n",
      "          \"size\": 17817109,\n",
      "          \"title\": \"Contractor's Report\"\n",
      "        },\n",
      "        {\n",
      "          \"contentType\": \"application/fgdc+xml\",\n",
      "          \"name\": \"MO20F0196_GAP_FGDCmetadata.xml\",\n",
      "          \"size\": 25458,\n",
      "          \"title\": \"\"\n",
      "        }\n",
      "      ],\n",
      "      \"name\": \"Airbornehorizon.zip\",\n",
      "      \"rel\": \"alternate\",\n",
      "      \"title\": \"Download Attached Files\",\n",
      "      \"type\": \"downloadLink\",\n",
      "      \"typeLabel\": \"Download Link\",\n",
      "      \"uri\": \"https://www.sciencebase.gov/catalog/file/get/624347bfd34e22d73748d357\"\n",
      "    }\n",
      "  ],\n",
      "  \"extents\": [\n",
      "    3477306\n",
      "  ],\n",
      "  \"facets\": [\n",
      "    {\n",
      "      \"boundingBox\": {\n",
      "        \"maxX\": -88.84073149235016,\n",
      "        \"maxY\": 38.29293709342903,\n",
      "        \"minX\": -90.00461013183526,\n",
      "        \"minY\": 36.83122623793704\n",
      "      },\n",
      "      \"className\": \"gov.sciencebase.catalog.item.facet.ShapefileFacet\",\n",
      "      \"facetName\": \"Shapefile\",\n",
      "      \"files\": [\n",
      "        {\n",
      "          \"bucket\": null,\n",
      "          \"checksum\": null,\n",
      "          \"contentEncoding\": null,\n",
      "          \"contentType\": \"application/unknown\",\n",
      "          \"cuid\": null,\n",
      "          \"dateUploaded\": \"2022-06-02T17:31:21Z\",\n",
      "          \"downloadUri\": \"https://www.sciencebase.gov/catalog/file/get/624347bfd34e22d73748d357?f=__disk__2b%2Fbb%2F0d%2F2bbb0dce0d3aa40be626237dfc086349b5249168\",\n",
      "          \"imageHeight\": null,\n",
      "          \"imageWidth\": null,\n",
      "          \"key\": null,\n",
      "          \"movedToS3\": null,\n",
      "          \"name\": \"USA-Gap-Airborne-survey-2021_Footprint.dbf\",\n",
      "          \"node\": null,\n",
      "          \"originalMetadata\": null,\n",
      "          \"pathOnDisk\": \"__disk__2b/bb/0d/2bbb0dce0d3aa40be626237dfc086349b5249168\",\n",
      "          \"processToken\": null,\n",
      "          \"processed\": null,\n",
      "          \"published\": null,\n",
      "          \"s3Object\": null,\n",
      "          \"size\": 75,\n",
      "          \"title\": \"Survey Bounds\",\n",
      "          \"uploadedBy\": \"dconnell@usgs.gov\",\n",
      "          \"url\": \"https://www.sciencebase.gov/catalog/file/get/624347bfd34e22d73748d357?f=__disk__2b%2Fbb%2F0d%2F2bbb0dce0d3aa40be626237dfc086349b5249168\",\n",
      "          \"useForPreview\": null\n",
      "        },\n",
      "        {\n",
      "          \"bucket\": null,\n",
      "          \"checksum\": null,\n",
      "          \"contentEncoding\": null,\n",
      "          \"contentType\": \"text/plain\",\n",
      "          \"cuid\": null,\n",
      "          \"dateUploaded\": \"2022-06-02T17:31:21Z\",\n",
      "          \"downloadUri\": \"https://www.sciencebase.gov/catalog/file/get/624347bfd34e22d73748d357?f=__disk__36%2F9c%2F96%2F369c9627a0a04c6c7c33d6539acb7d0d55c841ec\",\n",
      "          \"imageHeight\": null,\n",
      "          \"imageWidth\": null,\n",
      "          \"key\": null,\n",
      "          \"movedToS3\": null,\n",
      "          \"name\": \"USA-Gap-Airborne-survey-2021_Footprint.prj\",\n",
      "          \"node\": null,\n",
      "          \"originalMetadata\": null,\n",
      "          \"pathOnDisk\": \"__disk__36/9c/96/369c9627a0a04c6c7c33d6539acb7d0d55c841ec\",\n",
      "          \"processToken\": null,\n",
      "          \"processed\": null,\n",
      "          \"published\": null,\n",
      "          \"s3Object\": null,\n",
      "          \"size\": 428,\n",
      "          \"title\": \"Survey Bounds\",\n",
      "          \"uploadedBy\": \"dconnell@usgs.gov\",\n",
      "          \"url\": \"https://www.sciencebase.gov/catalog/file/get/624347bfd34e22d73748d357?f=__disk__36%2F9c%2F96%2F369c9627a0a04c6c7c33d6539acb7d0d55c841ec\",\n",
      "          \"useForPreview\": null,\n",
      "          \"viewUri\": \"https://www.sciencebase.gov/catalog/file/get/624347bfd34e22d73748d357?f=__disk__36%2F9c%2F96%2F369c9627a0a04c6c7c33d6539acb7d0d55c841ec&allowOpen=true\"\n",
      "        },\n",
      "        {\n",
      "          \"bucket\": null,\n",
      "          \"checksum\": null,\n",
      "          \"contentEncoding\": null,\n",
      "          \"contentType\": \"x-gis/x-shapefile\",\n",
      "          \"cuid\": null,\n",
      "          \"dateUploaded\": \"2022-06-02T17:31:21Z\",\n",
      "          \"downloadUri\": \"https://www.sciencebase.gov/catalog/file/get/624347bfd34e22d73748d357?f=__disk__28%2Fd1%2F7f%2F28d17f41fdd09ba06d89cae4242fcefd51ce1fa1\",\n",
      "          \"imageHeight\": null,\n",
      "          \"imageWidth\": null,\n",
      "          \"key\": null,\n",
      "          \"movedToS3\": null,\n",
      "          \"name\": \"USA-Gap-Airborne-survey-2021_Footprint.shp\",\n",
      "          \"node\": null,\n",
      "          \"originalMetadata\": null,\n",
      "          \"pathOnDisk\": \"__disk__28/d1/7f/28d17f41fdd09ba06d89cae4242fcefd51ce1fa1\",\n",
      "          \"processToken\": null,\n",
      "          \"processed\": null,\n",
      "          \"published\": null,\n",
      "          \"s3Object\": null,\n",
      "          \"size\": 284,\n",
      "          \"title\": \"Survey Bounds\",\n",
      "          \"uploadedBy\": \"dconnell@usgs.gov\",\n",
      "          \"url\": \"https://www.sciencebase.gov/catalog/file/get/624347bfd34e22d73748d357?f=__disk__28%2Fd1%2F7f%2F28d17f41fdd09ba06d89cae4242fcefd51ce1fa1\",\n",
      "          \"useForPreview\": null\n",
      "        },\n",
      "        {\n",
      "          \"bucket\": null,\n",
      "          \"checksum\": null,\n",
      "          \"contentEncoding\": null,\n",
      "          \"contentType\": \"x-gis/x-shapefile\",\n",
      "          \"cuid\": null,\n",
      "          \"dateUploaded\": \"2022-06-02T17:31:21Z\",\n",
      "          \"downloadUri\": \"https://www.sciencebase.gov/catalog/file/get/624347bfd34e22d73748d357?f=__disk__e3%2F06%2F80%2Fe306800685313dc9e93482595ff564ab13d8483f\",\n",
      "          \"imageHeight\": null,\n",
      "          \"imageWidth\": null,\n",
      "          \"key\": null,\n",
      "          \"movedToS3\": null,\n",
      "          \"name\": \"USA-Gap-Airborne-survey-2021_Footprint.shx\",\n",
      "          \"node\": null,\n",
      "          \"originalMetadata\": null,\n",
      "          \"pathOnDisk\": \"__disk__e3/06/80/e306800685313dc9e93482595ff564ab13d8483f\",\n",
      "          \"processToken\": null,\n",
      "          \"processed\": null,\n",
      "          \"published\": null,\n",
      "          \"s3Object\": null,\n",
      "          \"size\": 108,\n",
      "          \"title\": \"Survey Bounds\",\n",
      "          \"uploadedBy\": \"dconnell@usgs.gov\",\n",
      "          \"url\": \"https://www.sciencebase.gov/catalog/file/get/624347bfd34e22d73748d357?f=__disk__e3%2F06%2F80%2Fe306800685313dc9e93482595ff564ab13d8483f\",\n",
      "          \"useForPreview\": null\n",
      "        }\n",
      "      ],\n",
      "      \"geometryType\": \"MultiPolygon\",\n",
      "      \"name\": \"USA-Gap-Airborne-survey-2021_Footprint\",\n",
      "      \"nativeCrs\": \"EPSG:32616\"\n",
      "    },\n",
      "    {\n",
      "      \"boundingBox\": {\n",
      "        \"maxX\": -88.8396249614761,\n",
      "        \"maxY\": 38.295734591490415,\n",
      "        \"minX\": -90.00836273576081,\n",
      "        \"minY\": 36.83014305540756\n",
      "      },\n",
      "      \"className\": \"gov.sciencebase.catalog.item.facet.ShapefileFacet\",\n",
      "      \"facetName\": \"Shapefile\",\n",
      "      \"files\": [\n",
      "        {\n",
      "          \"bucket\": null,\n",
      "          \"checksum\": null,\n",
      "          \"contentEncoding\": null,\n",
      "          \"contentType\": \"text/plain\",\n",
      "          \"cuid\": null,\n",
      "          \"dateUploaded\": \"2022-06-02T17:32:36Z\",\n",
      "          \"downloadUri\": \"https://www.sciencebase.gov/catalog/file/get/624347bfd34e22d73748d357?f=__disk__36%2F0b%2Ffa%2F360bfadd7e78032697879df50a98acd09c1edc34\",\n",
      "          \"imageHeight\": null,\n",
      "          \"imageWidth\": null,\n",
      "          \"key\": null,\n",
      "          \"movedToS3\": null,\n",
      "          \"name\": \"USA-Gap-Airborne-survey-2021_LinePath.dbf\",\n",
      "          \"node\": null,\n",
      "          \"originalMetadata\": null,\n",
      "          \"pathOnDisk\": \"__disk__36/0b/fa/360bfadd7e78032697879df50a98acd09c1edc34\",\n",
      "          \"processToken\": null,\n",
      "          \"processed\": null,\n",
      "          \"published\": null,\n",
      "          \"s3Object\": null,\n",
      "          \"size\": 15276,\n",
      "          \"title\": \"Survey Flightlines\",\n",
      "          \"uploadedBy\": \"dconnell@usgs.gov\",\n",
      "          \"url\": \"https://www.sciencebase.gov/catalog/file/get/624347bfd34e22d73748d357?f=__disk__36%2F0b%2Ffa%2F360bfadd7e78032697879df50a98acd09c1edc34\",\n",
      "          \"useForPreview\": null,\n",
      "          \"viewUri\": \"https://www.sciencebase.gov/catalog/file/get/624347bfd34e22d73748d357?f=__disk__36%2F0b%2Ffa%2F360bfadd7e78032697879df50a98acd09c1edc34&allowOpen=true\"\n",
      "        },\n",
      "        {\n",
      "          \"bucket\": null,\n",
      "          \"checksum\": null,\n",
      "          \"contentEncoding\": null,\n",
      "          \"contentType\": \"text/plain\",\n",
      "          \"cuid\": null,\n",
      "          \"dateUploaded\": \"2022-06-02T17:32:36Z\",\n",
      "          \"downloadUri\": \"https://www.sciencebase.gov/catalog/file/get/624347bfd34e22d73748d357?f=__disk__98%2Fc3%2Fce%2F98c3ce13a51abdf0939d036bf0947920da9fd4ca\",\n",
      "          \"imageHeight\": null,\n",
      "          \"imageWidth\": null,\n",
      "          \"key\": null,\n",
      "          \"movedToS3\": null,\n",
      "          \"name\": \"USA-Gap-Airborne-survey-2021_LinePath.prj\",\n",
      "          \"node\": null,\n",
      "          \"originalMetadata\": null,\n",
      "          \"pathOnDisk\": \"__disk__98/c3/ce/98c3ce13a51abdf0939d036bf0947920da9fd4ca\",\n",
      "          \"processToken\": null,\n",
      "          \"processed\": null,\n",
      "          \"published\": null,\n",
      "          \"s3Object\": null,\n",
      "          \"size\": 428,\n",
      "          \"title\": \"Survey Flightlines\",\n",
      "          \"uploadedBy\": \"dconnell@usgs.gov\",\n",
      "          \"url\": \"https://www.sciencebase.gov/catalog/file/get/624347bfd34e22d73748d357?f=__disk__98%2Fc3%2Fce%2F98c3ce13a51abdf0939d036bf0947920da9fd4ca\",\n",
      "          \"useForPreview\": null,\n",
      "          \"viewUri\": \"https://www.sciencebase.gov/catalog/file/get/624347bfd34e22d73748d357?f=__disk__98%2Fc3%2Fce%2F98c3ce13a51abdf0939d036bf0947920da9fd4ca&allowOpen=true\"\n",
      "        },\n",
      "        {\n",
      "          \"bucket\": null,\n",
      "          \"checksum\": null,\n",
      "          \"contentEncoding\": null,\n",
      "          \"contentType\": \"x-gis/x-shapefile\",\n",
      "          \"cuid\": null,\n",
      "          \"dateUploaded\": \"2022-06-02T17:32:36Z\",\n",
      "          \"downloadUri\": \"https://www.sciencebase.gov/catalog/file/get/624347bfd34e22d73748d357?f=__disk__6c%2F34%2F6c%2F6c346c3de8138142058bfa6ba893177ba4991dc7\",\n",
      "          \"imageHeight\": null,\n",
      "          \"imageWidth\": null,\n",
      "          \"key\": null,\n",
      "          \"movedToS3\": null,\n",
      "          \"name\": \"USA-Gap-Airborne-survey-2021_LinePath.shp\",\n",
      "          \"node\": null,\n",
      "          \"originalMetadata\": null,\n",
      "          \"pathOnDisk\": \"__disk__6c/34/6c/6c346c3de8138142058bfa6ba893177ba4991dc7\",\n",
      "          \"processToken\": null,\n",
      "          \"processed\": null,\n",
      "          \"published\": null,\n",
      "          \"s3Object\": null,\n",
      "          \"size\": 3272708,\n",
      "          \"title\": \"Survey Flightlines\",\n",
      "          \"uploadedBy\": \"dconnell@usgs.gov\",\n",
      "          \"url\": \"https://www.sciencebase.gov/catalog/file/get/624347bfd34e22d73748d357?f=__disk__6c%2F34%2F6c%2F6c346c3de8138142058bfa6ba893177ba4991dc7\",\n",
      "          \"useForPreview\": null\n",
      "        },\n",
      "        {\n",
      "          \"bucket\": null,\n",
      "          \"checksum\": null,\n",
      "          \"contentEncoding\": null,\n",
      "          \"contentType\": \"x-gis/x-shapefile\",\n",
      "          \"cuid\": null,\n",
      "          \"dateUploaded\": \"2022-06-02T17:32:36Z\",\n",
      "          \"downloadUri\": \"https://www.sciencebase.gov/catalog/file/get/624347bfd34e22d73748d357?f=__disk__bd%2F17%2F1e%2Fbd171e847ae4e50a96dd3f6ccbad1f765d6c2481\",\n",
      "          \"imageHeight\": null,\n",
      "          \"imageWidth\": null,\n",
      "          \"key\": null,\n",
      "          \"movedToS3\": null,\n",
      "          \"name\": \"USA-Gap-Airborne-survey-2021_LinePath.shx\",\n",
      "          \"node\": null,\n",
      "          \"originalMetadata\": null,\n",
      "          \"pathOnDisk\": \"__disk__bd/17/1e/bd171e847ae4e50a96dd3f6ccbad1f765d6c2481\",\n",
      "          \"processToken\": null,\n",
      "          \"processed\": null,\n",
      "          \"published\": null,\n",
      "          \"s3Object\": null,\n",
      "          \"size\": 13620,\n",
      "          \"title\": \"Survey Flightlines\",\n",
      "          \"uploadedBy\": \"dconnell@usgs.gov\",\n",
      "          \"url\": \"https://www.sciencebase.gov/catalog/file/get/624347bfd34e22d73748d357?f=__disk__bd%2F17%2F1e%2Fbd171e847ae4e50a96dd3f6ccbad1f765d6c2481\",\n",
      "          \"useForPreview\": null\n",
      "        }\n",
      "      ],\n",
      "      \"geometryType\": \"MultiLineString\",\n",
      "      \"name\": \"USA-Gap-Airborne-survey-2021_LinePath\",\n",
      "      \"nativeCrs\": \"EPSG:32616\"\n",
      "    }\n",
      "  ],\n",
      "  \"files\": [\n",
      "    {\n",
      "      \"bucket\": null,\n",
      "      \"checksum\": {\n",
      "        \"type\": \"MD5\",\n",
      "        \"value\": \"c13ab78e23268441e09dca995498b73c\"\n",
      "      },\n",
      "      \"contentEncoding\": null,\n",
      "      \"contentType\": \"image/jpeg\",\n",
      "      \"cuid\": null,\n",
      "      \"dateUploaded\": \"2022-04-06T16:32:54Z\",\n",
      "      \"downloadUri\": \"https://www.sciencebase.gov/catalog/file/get/624347bfd34e22d73748d357?f=__disk__09%2F98%2F69%2F099869273da1e0c28f74be850cb5d32f8d0f676f\",\n",
      "      \"imageHeight\": 3010,\n",
      "      \"imageWidth\": 4373,\n",
      "      \"key\": null,\n",
      "      \"movedToS3\": null,\n",
      "      \"name\": \"MO20F0196_USGS_GAP_MagAnomMap_GapOverview.jpg\",\n",
      "      \"node\": null,\n",
      "      \"originalMetadata\": false,\n",
      "      \"pathOnDisk\": \"__disk__09/98/69/099869273da1e0c28f74be850cb5d32f8d0f676f\",\n",
      "      \"previewImage\": {\n",
      "        \"large\": {\n",
      "          \"height\": 688,\n",
      "          \"uri\": \"https://www.sciencebase.gov/catalog/file/get/624347bfd34e22d73748d357?f=__disk__09%2F98%2F69%2F099869273da1e0c28f74be850cb5d32f8d0f676f&width=1000&height=688\",\n",
      "          \"width\": 1000\n",
      "        },\n",
      "        \"medium\": {\n",
      "          \"height\": 399,\n",
      "          \"uri\": \"https://www.sciencebase.gov/catalog/file/get/624347bfd34e22d73748d357?f=__disk__09%2F98%2F69%2F099869273da1e0c28f74be850cb5d32f8d0f676f&width=580&height=399\",\n",
      "          \"width\": 580\n",
      "        },\n",
      "        \"small\": {\n",
      "          \"height\": 241,\n",
      "          \"uri\": \"https://www.sciencebase.gov/catalog/file/get/624347bfd34e22d73748d357?f=__disk__09%2F98%2F69%2F099869273da1e0c28f74be850cb5d32f8d0f676f&width=350&height=241\",\n",
      "          \"width\": 350\n",
      "        },\n",
      "        \"thumbnail\": {\n",
      "          \"height\": 103,\n",
      "          \"uri\": \"https://www.sciencebase.gov/catalog/file/get/624347bfd34e22d73748d357?f=__disk__09%2F98%2F69%2F099869273da1e0c28f74be850cb5d32f8d0f676f&width=150&height=103\",\n",
      "          \"width\": 150\n",
      "        }\n",
      "      },\n",
      "      \"processToken\": null,\n",
      "      \"processed\": false,\n",
      "      \"published\": null,\n",
      "      \"s3Object\": null,\n",
      "      \"size\": 6496396,\n",
      "      \"title\": \"Magnetic anomaly map of Gap and adjacent surveys\",\n",
      "      \"uploadedBy\": \"dconnell@usgs.gov\",\n",
      "      \"url\": \"https://www.sciencebase.gov/catalog/file/get/624347bfd34e22d73748d357?f=__disk__09%2F98%2F69%2F099869273da1e0c28f74be850cb5d32f8d0f676f\",\n",
      "      \"useForPreview\": true,\n",
      "      \"viewUri\": \"https://www.sciencebase.gov/catalog/file/get/624347bfd34e22d73748d357?f=__disk__09%2F98%2F69%2F099869273da1e0c28f74be850cb5d32f8d0f676f&width=4373&height=3010\"\n",
      "    },\n",
      "    {\n",
      "      \"bucket\": \"prod-is-usgs-sb-prod-content\",\n",
      "      \"checksum\": null,\n",
      "      \"contentEncoding\": null,\n",
      "      \"contentType\": \"application/zip\",\n",
      "      \"cuid\": \"cl1nvlh99003q13pic5kt8ple\",\n",
      "      \"dateUploaded\": \"2022-04-06T18:00:21Z\",\n",
      "      \"downloadUri\": \"https://sciencebase.usgs.gov/manager/download/cl1nvlh99003q13pic5kt8ple\",\n",
      "      \"imageHeight\": null,\n",
      "      \"imageWidth\": null,\n",
      "      \"key\": \"624347bfd34e22d73748d357/MO20F0196_USGS_GAP_OrigContractorDeliverable.zip\",\n",
      "      \"movedToS3\": false,\n",
      "      \"name\": \"MO20F0196_USGS_GAP_OrigContractorDeliverable.zip\",\n",
      "      \"node\": {\n",
      "        \"managerUrl\": \"https://sciencebase.usgs.gov/manager\"\n",
      "      },\n",
      "      \"originalMetadata\": false,\n",
      "      \"pathOnDisk\": \"__s3__\",\n",
      "      \"processToken\": null,\n",
      "      \"processed\": false,\n",
      "      \"published\": null,\n",
      "      \"s3DownloadRequestPageUri\": \"https://www.sciencebase.gov/catalog/item/requestDownload/624347bfd34e22d73748d357?filePath=__s3__\",\n",
      "      \"s3Object\": null,\n",
      "      \"size\": 3577030295,\n",
      "      \"title\": \"Contractor's deliverables: Geosoft grids and database\",\n",
      "      \"uploadedBy\": \"dconnell@usgs.gov\",\n",
      "      \"url\": \"https://sciencebase.usgs.gov/manager/item/624347bfd34e22d73748d357/file/cl1nvlh99003q13pic5kt8ple\",\n",
      "      \"useForPreview\": false\n",
      "    },\n",
      "    {\n",
      "      \"bucket\": null,\n",
      "      \"checksum\": {\n",
      "        \"type\": \"MD5\",\n",
      "        \"value\": \"c4e1229d0848a4932722672635092e0b\"\n",
      "      },\n",
      "      \"contentEncoding\": null,\n",
      "      \"contentType\": \"application/pdf\",\n",
      "      \"cuid\": null,\n",
      "      \"dateUploaded\": \"2022-06-14T19:37:03Z\",\n",
      "      \"downloadUri\": \"https://www.sciencebase.gov/catalog/file/get/624347bfd34e22d73748d357?f=__disk__74%2F20%2F44%2F74204475061ff8de80ec56112afe73f7154ce8d3\",\n",
      "      \"imageHeight\": null,\n",
      "      \"imageWidth\": null,\n",
      "      \"key\": null,\n",
      "      \"movedToS3\": null,\n",
      "      \"name\": \"MO20F0196_USGS_GAP-Geophysical_Airborne_Survey_Report.pdf\",\n",
      "      \"node\": null,\n",
      "      \"originalMetadata\": false,\n",
      "      \"pathOnDisk\": \"__disk__74/20/44/74204475061ff8de80ec56112afe73f7154ce8d3\",\n",
      "      \"processToken\": null,\n",
      "      \"processed\": false,\n",
      "      \"published\": null,\n",
      "      \"s3Object\": null,\n",
      "      \"size\": 17817109,\n",
      "      \"title\": \"Contractor's Report\",\n",
      "      \"uploadedBy\": \"dconnell@usgs.gov\",\n",
      "      \"url\": \"https://www.sciencebase.gov/catalog/file/get/624347bfd34e22d73748d357?f=__disk__74%2F20%2F44%2F74204475061ff8de80ec56112afe73f7154ce8d3\",\n",
      "      \"useForPreview\": false\n",
      "    },\n",
      "    {\n",
      "      \"bucket\": null,\n",
      "      \"checksum\": {\n",
      "        \"type\": \"MD5\",\n",
      "        \"value\": \"8feebd5512fa8079af0faac66d480612\"\n",
      "      },\n",
      "      \"contentEncoding\": null,\n",
      "      \"contentType\": \"application/fgdc+xml\",\n",
      "      \"cuid\": null,\n",
      "      \"dateUploaded\": \"2022-06-29T20:07:34Z\",\n",
      "      \"downloadUri\": \"https://www.sciencebase.gov/catalog/file/get/624347bfd34e22d73748d357?f=__disk__f8%2F4f%2F4f%2Ff84f4faecdd3f8190acbe87028f138a4a5f5e6f6\",\n",
      "      \"imageHeight\": null,\n",
      "      \"imageWidth\": null,\n",
      "      \"key\": null,\n",
      "      \"metadataHtmlViewUri\": \"https://www.sciencebase.gov/catalog/file/get/624347bfd34e22d73748d357?f=__disk__f8%2F4f%2F4f%2Ff84f4faecdd3f8190acbe87028f138a4a5f5e6f6&transform=1\",\n",
      "      \"movedToS3\": null,\n",
      "      \"name\": \"MO20F0196_GAP_FGDCmetadata.xml\",\n",
      "      \"node\": null,\n",
      "      \"originalMetadata\": true,\n",
      "      \"pathOnDisk\": \"__disk__f8/4f/4f/f84f4faecdd3f8190acbe87028f138a4a5f5e6f6\",\n",
      "      \"processToken\": null,\n",
      "      \"processed\": false,\n",
      "      \"published\": null,\n",
      "      \"s3Object\": null,\n",
      "      \"size\": 25458,\n",
      "      \"title\": \"\",\n",
      "      \"uploadedBy\": \"dconnell@usgs.gov\",\n",
      "      \"url\": \"https://www.sciencebase.gov/catalog/file/get/624347bfd34e22d73748d357?f=__disk__f8%2F4f%2F4f%2Ff84f4faecdd3f8190acbe87028f138a4a5f5e6f6\",\n",
      "      \"useForPreview\": false\n",
      "    }\n",
      "  ],\n",
      "  \"hasChildren\": true,\n",
      "  \"id\": \"624347bfd34e22d73748d357\",\n",
      "  \"identifiers\": [\n",
      "    {\n",
      "      \"key\": \"IP-139541\",\n",
      "      \"scheme\": \"https://www.sciencebase.gov/vocab/category/item/identifier\",\n",
      "      \"type\": \"IPDS\"\n",
      "    },\n",
      "    {\n",
      "      \"key\": \"doi:10.5066/P9TK8KMM\",\n",
      "      \"scheme\": \"https://www.sciencebase.gov/vocab/category/item/identifier\",\n",
      "      \"type\": \"DOI\"\n",
      "    },\n",
      "    {\n",
      "      \"key\": \"Geology, Geophysics, and Geochemistry Science Center\",\n",
      "      \"scheme\": \"https://www.sciencebase.gov/vocab/category/item/identifier\",\n",
      "      \"type\": \"USGS_ScienceCenter\"\n",
      "    },\n",
      "    {\n",
      "      \"key\": \"Energy and Minerals\",\n",
      "      \"scheme\": \"https://www.sciencebase.gov/vocab/category/item/identifier\",\n",
      "      \"type\": \"USGS_MissionArea\"\n",
      "    },\n",
      "    {\n",
      "      \"key\": \"Economic Geology, Geophysics, Mineral Resources\",\n",
      "      \"scheme\": \"https://www.sciencebase.gov/vocab/category/item/identifier\",\n",
      "      \"type\": \"USGS_keywords\"\n",
      "    }\n",
      "  ],\n",
      "  \"link\": {\n",
      "    \"rel\": \"self\",\n",
      "    \"url\": \"https://www.sciencebase.gov/catalog/item/624347bfd34e22d73748d357\"\n",
      "  },\n",
      "  \"locked\": false,\n",
      "  \"maintenanceUpdateFrequency\": \"None planned\",\n",
      "  \"parentId\": \"5873af5ee4b0a829a31e312e\",\n",
      "  \"permissions\": {\n",
      "    \"read\": {\n",
      "      \"acl\": [\n",
      "        \"USER:anne@usgs.gov\",\n",
      "        \"ROLE:BAO\",\n",
      "        \"USER:abern@usgs.gov\",\n",
      "        \"USER:cmoses@usgs.gov\",\n",
      "        \"ROLE:CGGSC_CMERSC_Data_Managers\",\n",
      "        \"USER:pbedrosian@usgs.gov\"\n",
      "      ],\n",
      "      \"inherited\": false\n",
      "    },\n",
      "    \"write\": {\n",
      "      \"acl\": [\n",
      "        \"ROLE:CGGSC_CMERSC_Data_Managers\",\n",
      "        \"ROLE:ScienceBase_Data_Release_Team\",\n",
      "        \"USER:anne@usgs.gov\",\n",
      "        \"USER:dconnell@usgs.gov\",\n",
      "        \"USER:pbrown@usgs.gov\"\n",
      "      ],\n",
      "      \"inherited\": false\n",
      "    }\n",
      "  },\n",
      "  \"previewImage\": {\n",
      "    \"alternateImages\": [\n",
      "      {\n",
      "        \"from\": \"mapPreview\",\n",
      "        \"original\": {\n",
      "          \"height\": 240,\n",
      "          \"size\": 147857,\n",
      "          \"uri\": \"https://www.sciencebase.gov/catalog/file/get/624347bfd34e22d73748d357?f=__disk__e0%2F4b%2Fa5%2Fe04ba5ed15c200a0d11420be491dbfe1fe2e47fb\",\n",
      "          \"viewUri\": \"https://www.sciencebase.gov/catalog/file/get/624347bfd34e22d73748d357?f=__disk__e0%2F4b%2Fa5%2Fe04ba5ed15c200a0d11420be491dbfe1fe2e47fb&width=360&height=240\",\n",
      "          \"viewUrl\": \"https://www.sciencebase.gov/catalog/file/get/624347bfd34e22d73748d357?deprecated=__use__viewUri__instead__&f=__disk__e0%2F4b%2Fa5%2Fe04ba5ed15c200a0d11420be491dbfe1fe2e47fb&width=360&height=240\",\n",
      "          \"width\": 360\n",
      "        },\n",
      "        \"thumbnail\": {\n",
      "          \"height\": 100,\n",
      "          \"uri\": \"https://www.sciencebase.gov/catalog/file/get/624347bfd34e22d73748d357?f=__disk__e0%2F4b%2Fa5%2Fe04ba5ed15c200a0d11420be491dbfe1fe2e47fb&width=150&height=100\",\n",
      "          \"width\": 150\n",
      "        }\n",
      "      }\n",
      "    ],\n",
      "    \"from\": \"attachedFile\",\n",
      "    \"large\": {\n",
      "      \"height\": 688,\n",
      "      \"uri\": \"https://www.sciencebase.gov/catalog/file/get/624347bfd34e22d73748d357?f=__disk__09%2F98%2F69%2F099869273da1e0c28f74be850cb5d32f8d0f676f&width=1000&height=688\",\n",
      "      \"width\": 1000\n",
      "    },\n",
      "    \"medium\": {\n",
      "      \"height\": 399,\n",
      "      \"uri\": \"https://www.sciencebase.gov/catalog/file/get/624347bfd34e22d73748d357?f=__disk__09%2F98%2F69%2F099869273da1e0c28f74be850cb5d32f8d0f676f&width=580&height=399\",\n",
      "      \"width\": 580\n",
      "    },\n",
      "    \"original\": {\n",
      "      \"height\": 3010,\n",
      "      \"size\": 6496396,\n",
      "      \"title\": \"Magnetic anomaly map of Gap and adjacent surveys\",\n",
      "      \"uri\": \"https://www.sciencebase.gov/catalog/file/get/624347bfd34e22d73748d357?f=__disk__09%2F98%2F69%2F099869273da1e0c28f74be850cb5d32f8d0f676f\",\n",
      "      \"viewUri\": \"https://www.sciencebase.gov/catalog/file/get/624347bfd34e22d73748d357?f=__disk__09%2F98%2F69%2F099869273da1e0c28f74be850cb5d32f8d0f676f&width=4373&height=3010\",\n",
      "      \"viewUrl\": \"https://www.sciencebase.gov/catalog/file/get/624347bfd34e22d73748d357?deprecated=__use__viewUri__instead__&f=__disk__09%2F98%2F69%2F099869273da1e0c28f74be850cb5d32f8d0f676f&width=4373&height=3010\",\n",
      "      \"width\": 4373\n",
      "    },\n",
      "    \"small\": {\n",
      "      \"height\": 241,\n",
      "      \"uri\": \"https://www.sciencebase.gov/catalog/file/get/624347bfd34e22d73748d357?f=__disk__09%2F98%2F69%2F099869273da1e0c28f74be850cb5d32f8d0f676f&width=350&height=241\",\n",
      "      \"width\": 350\n",
      "    },\n",
      "    \"thumbnail\": {\n",
      "      \"height\": 103,\n",
      "      \"uri\": \"https://www.sciencebase.gov/catalog/file/get/624347bfd34e22d73748d357?f=__disk__09%2F98%2F69%2F099869273da1e0c28f74be850cb5d32f8d0f676f&width=150&height=103\",\n",
      "      \"width\": 150\n",
      "    }\n",
      "  },\n",
      "  \"provenance\": {\n",
      "    \"createdBy\": \"sbdr_app\",\n",
      "    \"dateCreated\": \"2022-03-29T17:54:07Z\",\n",
      "    \"lastUpdated\": \"2022-06-29T20:07:36Z\",\n",
      "    \"lastUpdatedBy\": \"dconnell@usgs.gov\"\n",
      "  },\n",
      "  \"purpose\": \"The airborne magnetic and radiometric survey was designed to augment and connect several previous USGS geophysical surveys in order to provide a continuous representation of the magnetic and radiometric fields from southeast Missouri to western Kentucky. These data will be used to better understand the surface and concealed geologic framework.\",\n",
      "  \"relatedItems\": {\n",
      "    \"link\": {\n",
      "      \"rel\": \"related\",\n",
      "      \"url\": \"https://www.sciencebase.gov/catalog/itemLinks?itemId=624347bfd34e22d73748d357\"\n",
      "    }\n",
      "  },\n",
      "  \"spatial\": {\n",
      "    \"boundingBox\": {\n",
      "      \"maxX\": -88.83967198,\n",
      "      \"maxY\": 38.29528422,\n",
      "      \"minX\": -89.95097716,\n",
      "      \"minY\": 36.83041509\n",
      "    },\n",
      "    \"representationalPoint\": [\n",
      "      -89.39410000000001,\n",
      "      37.5612\n",
      "    ],\n",
      "    \"representationalPointIsDerived\": true\n",
      "  },\n",
      "  \"summary\": \"This publication provides digital flight line data for a high-resolution horizontal magnetic gradient and radiometric survey over an area of southeast Missouri, southern Illinois, and western Kentucky. The survey was conducted in collaboration with the Missouri Geological Survey as part of the U.S. Geological Survey (USGS) Earth Mapping Resource Initiative (Earth MRI) effort (Day, 2019). Earth MRI is a cooperative effort between the USGS, the Association of American State Geologists, and other Federal, State, and private sector organizations to improve our knowledge of the geologic framework of the United States. Data for this survey were collected by Terraquest, Ltd. under contract with the USGS using a fixed-wing aircraft with magnetometers [...]\",\n",
      "  \"systemTypes\": [\n",
      "    \"Folder\",\n",
      "    \"Downloadable\",\n",
      "    \"Mappable\"\n",
      "  ],\n",
      "  \"tags\": [\n",
      "    {\n",
      "      \"name\": \"USGS Science Data Catalog (SDC)\",\n",
      "      \"type\": \"Harvest Set\"\n",
      "    },\n",
      "    {\n",
      "      \"name\": \"geophysics\",\n",
      "      \"scheme\": \"USGS Thesaurus\",\n",
      "      \"type\": \"Theme\"\n",
      "    },\n",
      "    {\n",
      "      \"name\": \"geospatial datasets\",\n",
      "      \"scheme\": \"USGS Thesaurus\",\n",
      "      \"type\": \"Theme\"\n",
      "    },\n",
      "    {\n",
      "      \"name\": \"aeromagnetic surveying\",\n",
      "      \"scheme\": \"USGS Thesaurus\",\n",
      "      \"type\": \"Theme\"\n",
      "    },\n",
      "    {\n",
      "      \"name\": \"aeroradiometric surveying\",\n",
      "      \"scheme\": \"USGS Thesaurus\",\n",
      "      \"type\": \"Theme\"\n",
      "    },\n",
      "    {\n",
      "      \"name\": \"potassium\",\n",
      "      \"scheme\": \"USGS Thesaurus\",\n",
      "      \"type\": \"Theme\"\n",
      "    },\n",
      "    {\n",
      "      \"name\": \"uranium\",\n",
      "      \"scheme\": \"USGS Thesaurus\",\n",
      "      \"type\": \"Theme\"\n",
      "    },\n",
      "    {\n",
      "      \"name\": \"thorium\",\n",
      "      \"scheme\": \"USGS Thesaurus\",\n",
      "      \"type\": \"Theme\"\n",
      "    },\n",
      "    {\n",
      "      \"name\": \"Geology, Geophysics, and Geochemistry Science Center\",\n",
      "      \"scheme\": \"none\",\n",
      "      \"type\": \"Theme\"\n",
      "    },\n",
      "    {\n",
      "      \"name\": \"GGGSC\",\n",
      "      \"scheme\": \"none\",\n",
      "      \"type\": \"Theme\"\n",
      "    },\n",
      "    {\n",
      "      \"name\": \"Earthquake Hazards Program\",\n",
      "      \"scheme\": \"none\",\n",
      "      \"type\": \"Theme\"\n",
      "    },\n",
      "    {\n",
      "      \"name\": \"EHP\",\n",
      "      \"scheme\": \"none\",\n",
      "      \"type\": \"Theme\"\n",
      "    },\n",
      "    {\n",
      "      \"name\": \"National Cooperative Geologic Mapping Program\",\n",
      "      \"scheme\": \"none\",\n",
      "      \"type\": \"Theme\"\n",
      "    },\n",
      "    {\n",
      "      \"name\": \"NCGMP\",\n",
      "      \"scheme\": \"none\",\n",
      "      \"type\": \"Theme\"\n",
      "    },\n",
      "    {\n",
      "      \"name\": \"Mineral Resources Program\",\n",
      "      \"scheme\": \"none\",\n",
      "      \"type\": \"Theme\"\n",
      "    },\n",
      "    {\n",
      "      \"name\": \"MRP\",\n",
      "      \"scheme\": \"none\",\n",
      "      \"type\": \"Theme\"\n",
      "    },\n",
      "    {\n",
      "      \"name\": \"Earth Mapping Resources Initiative\",\n",
      "      \"scheme\": \"none\",\n",
      "      \"type\": \"Theme\"\n",
      "    },\n",
      "    {\n",
      "      \"name\": \"EarthMRI\",\n",
      "      \"scheme\": \"none\",\n",
      "      \"type\": \"Theme\"\n",
      "    },\n",
      "    {\n",
      "      \"name\": \"U.S. Geological Survey\",\n",
      "      \"scheme\": \"none\",\n",
      "      \"type\": \"Theme\"\n",
      "    },\n",
      "    {\n",
      "      \"name\": \"USGS\",\n",
      "      \"scheme\": \"none\",\n",
      "      \"type\": \"Theme\"\n",
      "    },\n",
      "    {\n",
      "      \"name\": \"airborne geophysical survey\",\n",
      "      \"scheme\": \"none\",\n",
      "      \"type\": \"Theme\"\n",
      "    },\n",
      "    {\n",
      "      \"name\": \"horizontal magnetic gradiometry\",\n",
      "      \"scheme\": \"none\",\n",
      "      \"type\": \"Theme\"\n",
      "    },\n",
      "    {\n",
      "      \"name\": \"geoscientificInformation\",\n",
      "      \"scheme\": \"ISO 19115 Topic Category\",\n",
      "      \"type\": \"Theme\"\n",
      "    },\n",
      "    {\n",
      "      \"name\": \"economy\",\n",
      "      \"scheme\": \"ISO 19115 Topic Category\",\n",
      "      \"type\": \"Theme\"\n",
      "    },\n",
      "    {\n",
      "      \"name\": \"United States\",\n",
      "      \"scheme\": \"Common geographic areas\",\n",
      "      \"type\": \"Place\"\n",
      "    },\n",
      "    {\n",
      "      \"name\": \"Economic Geology\",\n",
      "      \"type\": \"USGS Scientific Topic Keyword\"\n",
      "    },\n",
      "    {\n",
      "      \"name\": \"Geophysics\",\n",
      "      \"type\": \"USGS Scientific Topic Keyword\"\n",
      "    },\n",
      "    {\n",
      "      \"name\": \"Mineral Resources\",\n",
      "      \"type\": \"USGS Scientific Topic Keyword\"\n",
      "    },\n",
      "    {\n",
      "      \"name\": \"Sedimentology\",\n",
      "      \"type\": \"USGS Scientific Topic Keyword\"\n",
      "    },\n",
      "    {\n",
      "      \"name\": \"Seismology\",\n",
      "      \"type\": \"USGS Scientific Topic Keyword\"\n",
      "    },\n",
      "    {\n",
      "      \"name\": \"Structural Geology\",\n",
      "      \"type\": \"USGS Scientific Topic Keyword\"\n",
      "    },\n",
      "    {\n",
      "      \"name\": \"Cape Girardeau\",\n",
      "      \"scheme\": \"Geographic Names Information System (GNIS)\",\n",
      "      \"type\": \"Place\"\n",
      "    },\n",
      "    {\n",
      "      \"name\": \"Ballard County\",\n",
      "      \"scheme\": \"Geographic Names Information System (GNIS)\",\n",
      "      \"type\": \"Place\"\n",
      "    },\n",
      "    {\n",
      "      \"name\": \"Carlisle County\",\n",
      "      \"scheme\": \"Geographic Names Information System (GNIS)\",\n",
      "      \"type\": \"Place\"\n",
      "    },\n",
      "    {\n",
      "      \"name\": \"Jackson County\",\n",
      "      \"scheme\": \"Geographic Names Information System (GNIS)\",\n",
      "      \"type\": \"Place\"\n",
      "    },\n",
      "    {\n",
      "      \"name\": \"Jefferson County\",\n",
      "      \"scheme\": \"Geographic Names Information System (GNIS)\",\n",
      "      \"type\": \"Place\"\n",
      "    },\n",
      "    {\n",
      "      \"name\": \"Johnson County\",\n",
      "      \"scheme\": \"Geographic Names Information System (GNIS)\",\n",
      "      \"type\": \"Place\"\n",
      "    },\n",
      "    {\n",
      "      \"name\": \"Massac County\",\n",
      "      \"scheme\": \"Geographic Names Information System (GNIS)\",\n",
      "      \"type\": \"Place\"\n",
      "    },\n",
      "    {\n",
      "      \"name\": \"Alexander County\",\n",
      "      \"scheme\": \"Geographic Names Information System (GNIS)\",\n",
      "      \"type\": \"Place\"\n",
      "    },\n",
      "    {\n",
      "      \"name\": \"McCracken County\",\n",
      "      \"scheme\": \"Geographic Names Information System (GNIS)\",\n",
      "      \"type\": \"Place\"\n",
      "    },\n",
      "    {\n",
      "      \"name\": \"Perry County\",\n",
      "      \"scheme\": \"Geographic Names Information System (GNIS)\",\n",
      "      \"type\": \"Place\"\n",
      "    },\n",
      "    {\n",
      "      \"name\": \"Pulaski County\",\n",
      "      \"scheme\": \"Geographic Names Information System (GNIS)\",\n",
      "      \"type\": \"Place\"\n",
      "    },\n",
      "    {\n",
      "      \"name\": \"Randolph County\",\n",
      "      \"scheme\": \"Geographic Names Information System (GNIS)\",\n",
      "      \"type\": \"Place\"\n",
      "    },\n",
      "    {\n",
      "      \"name\": \"St. Clair County\",\n",
      "      \"scheme\": \"Geographic Names Information System (GNIS)\",\n",
      "      \"type\": \"Place\"\n",
      "    },\n",
      "    {\n",
      "      \"name\": \"Union County\",\n",
      "      \"scheme\": \"Geographic Names Information System (GNIS)\",\n",
      "      \"type\": \"Place\"\n",
      "    },\n",
      "    {\n",
      "      \"name\": \"Washington County\",\n",
      "      \"scheme\": \"Geographic Names Information System (GNIS)\",\n",
      "      \"type\": \"Place\"\n",
      "    },\n",
      "    {\n",
      "      \"name\": \"Williamson County\",\n",
      "      \"scheme\": \"Geographic Names Information System (GNIS)\",\n",
      "      \"type\": \"Place\"\n",
      "    },\n",
      "    {\n",
      "      \"name\": \"Franklin County\",\n",
      "      \"scheme\": \"Geographic Names Information System (GNIS)\",\n",
      "      \"type\": \"Place\"\n",
      "    },\n",
      "    {\n",
      "      \"name\": \"Bollinger County\",\n",
      "      \"scheme\": \"Geographic Names Information System (GNIS)\",\n",
      "      \"type\": \"Place\"\n",
      "    },\n",
      "    {\n",
      "      \"name\": \"Cape Girardeau County\",\n",
      "      \"scheme\": \"Geographic Names Information System (GNIS)\",\n",
      "      \"type\": \"Place\"\n",
      "    },\n",
      "    {\n",
      "      \"name\": \"Mississippi County\",\n",
      "      \"scheme\": \"Geographic Names Information System (GNIS)\",\n",
      "      \"type\": \"Place\"\n",
      "    },\n",
      "    {\n",
      "      \"name\": \"New Madrid County\",\n",
      "      \"scheme\": \"Geographic Names Information System (GNIS)\",\n",
      "      \"type\": \"Place\"\n",
      "    },\n",
      "    {\n",
      "      \"name\": \"Perry County\",\n",
      "      \"scheme\": \"Geographic Names Information System (GNIS)\",\n",
      "      \"type\": \"Place\"\n",
      "    },\n",
      "    {\n",
      "      \"name\": \"Scott County\",\n",
      "      \"scheme\": \"Geographic Names Information System (GNIS)\",\n",
      "      \"type\": \"Place\"\n",
      "    },\n",
      "    {\n",
      "      \"name\": \"Stoddard County\",\n",
      "      \"scheme\": \"Geographic Names Information System (GNIS)\",\n",
      "      \"type\": \"Place\"\n",
      "    },\n",
      "    {\n",
      "      \"name\": \"Missouri\",\n",
      "      \"scheme\": \"Geographic Names Information System (GNIS)\",\n",
      "      \"type\": \"Place\"\n",
      "    },\n",
      "    {\n",
      "      \"name\": \"Illinois\",\n",
      "      \"scheme\": \"Geographic Names Information System (GNIS)\",\n",
      "      \"type\": \"Place\"\n",
      "    },\n",
      "    {\n",
      "      \"name\": \"Kentucky\",\n",
      "      \"scheme\": \"Geographic Names Information System (GNIS)\",\n",
      "      \"type\": \"Place\"\n",
      "    }\n",
      "  ],\n",
      "  \"title\": \"Airborne horizontal magnetic gradient and radiometric survey over parts of southeast Missouri, southern Illinois and western Kentucky- The Gap survey, 2021\",\n",
      "  \"webLinks\": [\n",
      "    {\n",
      "      \"hidden\": false,\n",
      "      \"rel\": \"related\",\n",
      "      \"type\": \"Online Link\",\n",
      "      \"uri\": \"https://doi.org/10.5066/P9TK8KMM\"\n",
      "    },\n",
      "    {\n",
      "      \"hidden\": false,\n",
      "      \"length\": 3460300800,\n",
      "      \"rel\": \"related\",\n",
      "      \"title\": \"ZIP\",\n",
      "      \"type\": \"webLink\",\n",
      "      \"uri\": \"https://doi.org/10.5066/P9TK8KMM\"\n",
      "    }\n",
      "  ]\n",
      "}\n"
     ]
    }
   ],
   "source": [
    "# Now lets get the item - be sure to use the correct catalog number!!!\n",
    "catNum = '624347bfd34e22d73748d357'\n",
    "item_json = sb.get_item(catNum)\n",
    "#print (\"Public Item: \\n\\t\" + str(item_json))\n",
    "print(json.dumps(item_json, indent=2, sort_keys=True))"
   ]
  },
  {
   "cell_type": "code",
   "execution_count": 10,
   "metadata": {},
   "outputs": [
    {
     "data": {
      "text/markdown": [
       "**Other Citation Text:**\n",
       "\n",
       "Additional information about Originators: Ann E. McCafferty, https://orcid.org/0000-0001-5574-9201; Dylan M. Connell, https://orcid.org/0000-0001-8678-2776.  Suggested Citation: McCafferty, A.E. and Connell, D.M., 2022, Airborne horizontal-magnetic gradient and radiometric survey over parts of southeast Missouri, southern Illinois and western Kentucky- The Gap survey, 2021: U.S. Geological Survey data release, https://doi.org/10.5066/P9TK8KMM."
      ],
      "text/plain": [
       "<IPython.core.display.Markdown object>"
      ]
     },
     "metadata": {},
     "output_type": "display_data"
    },
    {
     "data": {
      "text/markdown": [
       "**Other Citation Text:**\n",
       "\n",
       "Day, W.D., 2019, The Earth MappingResources Initiative (Earth MRI): Mapping the nations critical mineral resources: U.S. Geological Survey Fact Sheet 2019-3007, https://pubs.usgs.gov/fs/2019/3007/fs20193007.pdf."
      ],
      "text/plain": [
       "<IPython.core.display.Markdown object>"
      ]
     },
     "metadata": {},
     "output_type": "display_data"
    }
   ],
   "source": [
    "# Check other citation information:\n",
    "for theme in root.iter('citeinfo'):\n",
    " othercit = theme.find('othercit')\n",
    " printmd (\"**Other Citation Text:**\\n\\n\" + othercit.text)"
   ]
  },
  {
   "cell_type": "code",
   "execution_count": 11,
   "metadata": {},
   "outputs": [
    {
     "name": "stdout",
     "output_type": "stream",
     "text": [
      "MO20F0196_USGS_GAP_MagAnomMap_GapOverview.jpg\n",
      "MO20F0196_USGS_GAP_OrigContractorDeliverable.zip\n",
      "MO20F0196_USGS_GAP-Geophysical_Airborne_Survey_Report.pdf\n",
      "MO20F0196_GAP_FGDCmetadata.xml\n"
     ]
    }
   ],
   "source": [
    "#Get the names of the file items in ScienceBase:\n",
    "#print(item_json['files'])\n",
    "\n",
    "for item in item_json['files']:\n",
    "    print (item['name'])"
   ]
  },
  {
   "cell_type": "code",
   "execution_count": 12,
   "metadata": {},
   "outputs": [
    {
     "data": {
      "text/markdown": [
       "**DETAILED Entity and Attributes:**"
      ],
      "text/plain": [
       "<IPython.core.display.Markdown object>"
      ]
     },
     "metadata": {},
     "output_type": "display_data"
    },
    {
     "name": "stdout",
     "output_type": "stream",
     "text": [
      "MO20F0196_USGS_GAP_MagAnomMap_GapOverview.jpg\n",
      "USA-Gap-Airborne-survey-2021_LinePath.shp\n",
      "USA-Gap-Airborne-survey-2021_Footprint.shp\n"
     ]
    },
    {
     "data": {
      "text/markdown": [
       "**Overview Only:**"
      ],
      "text/plain": [
       "<IPython.core.display.Markdown object>"
      ]
     },
     "metadata": {},
     "output_type": "display_data"
    },
    {
     "name": "stdout",
     "output_type": "stream",
     "text": [
      "Digital data package accepted by USGS from Terraquest, contains all delivered data products provided to USGS from the contractor in their original format. The contents of the package are described in the contractor's report.\n",
      "https://doi.org/10.5066/P9TK8KMM\n",
      "Survey report from Terraquest. This report describes the survey parameters, field operations, and quality control procedures used to produce the magnetic and radiometric data.\n",
      "https://doi.org/10.5066/P9TK8KMM\n"
     ]
    }
   ],
   "source": [
    "# Compare this to the metadata Entity and Atribute item\n",
    "printmd ('**DETAILED Entity and Attributes:**')\n",
    "for enttyp in root.iter('enttyp'):\n",
    " enttypl = enttyp.find('enttypl')\n",
    " print (enttypl.text)\n",
    "printmd ('**Overview Only:**') \n",
    "for overview in root.iter('overview'):\n",
    " eaover = overview.find('eaover')\n",
    " print (eaover.text)\n",
    " eadetcit = overview.find('eadetcit')\n",
    " print (eadetcit.text)"
   ]
  },
  {
   "cell_type": "markdown",
   "metadata": {},
   "source": [
    "> - Please add the Entity File Names (e.g. MO20F0196_USGS_GAP_OrigContractorDeliverable.zip, MO20F0196_USGS_GAP-Geophysical_Airborne_Survey_Report.pdf) to the E&A Overview section.\n"
   ]
  },
  {
   "cell_type": "markdown",
   "metadata": {},
   "source": [
    "##### b.\tLinks to data, publications, and services exist (although links may change when final DOI is assigned); "
   ]
  },
  {
   "cell_type": "code",
   "execution_count": 13,
   "metadata": {
    "scrolled": true
   },
   "outputs": [
    {
     "name": "stdout",
     "output_type": "stream",
     "text": [
      "indexSpace = 640\n",
      "https://orcid.org/0000-0001-5574-9201;\n",
      "\n",
      "indexSpace = 697\n",
      "https://orcid.org/0000-0001-8678-2776.\n",
      "\n",
      "indexSpace = 1103\n",
      "https://doi.org/10.5066/P9TK8KMM.</othercit>\n",
      "\t\t\t\t<onlink>https://doi.org/10.5066/P9TK8KMM</onlink>\n",
      "\t\t\t\t<lworkcit>\n",
      "\t\t\t\t\t<citeinfo>\n",
      "\t\t\t\t\t\t<origin>Day,\n",
      "\n",
      "indexSpace = 1103\n",
      "https://doi.org/10.5066/P9TK8KMM</onlink>\n",
      "\t\t\t\t<lworkcit>\n",
      "\t\t\t\t\t<citeinfo>\n",
      "\t\t\t\t\t\t<origin>Day,\n",
      "\n",
      "indexSpace = 2109\n",
      "https://pubs.usgs.gov/fs/2019/3007/fs20193007.pdf.</othercit>\n",
      "\t\t\t\t\t\t<onlink>https://pubs.usgs.gov/fs/2019/3007/fs20193007.pdf</onlink>\n",
      "\t\t\t\t\t\t<onlink>https://permanent.fdlp.gov/gpo117974/fs20193007.pdf</onlink>\n",
      "\t\t\t\t\t\t<onlink>https://www.usgs.gov/special-topics/earth-mri</onlink>\n",
      "\t\t\t\t\t</citeinfo>\n",
      "\t\t\t\t</lworkcit>\n",
      "\t\t\t</citeinfo>\n",
      "\t\t</citation>\n",
      "\t\t<descript>\n",
      "\t\t\t<abstract>This\n",
      "\n",
      "indexSpace = 2109\n",
      "https://pubs.usgs.gov/fs/2019/3007/fs20193007.pdf</onlink>\n",
      "\t\t\t\t\t\t<onlink>https://permanent.fdlp.gov/gpo117974/fs20193007.pdf</onlink>\n",
      "\t\t\t\t\t\t<onlink>https://www.usgs.gov/special-topics/earth-mri</onlink>\n",
      "\t\t\t\t\t</citeinfo>\n",
      "\t\t\t\t</lworkcit>\n",
      "\t\t\t</citeinfo>\n",
      "\t\t</citation>\n",
      "\t\t<descript>\n",
      "\t\t\t<abstract>This\n",
      "\n",
      "indexSpace = 2109\n",
      "https://permanent.fdlp.gov/gpo117974/fs20193007.pdf</onlink>\n",
      "\t\t\t\t\t\t<onlink>https://www.usgs.gov/special-topics/earth-mri</onlink>\n",
      "\t\t\t\t\t</citeinfo>\n",
      "\t\t\t\t</lworkcit>\n",
      "\t\t\t</citeinfo>\n",
      "\t\t</citation>\n",
      "\t\t<descript>\n",
      "\t\t\t<abstract>This\n",
      "\n",
      "indexSpace = 2109\n",
      "https://www.usgs.gov/special-topics/earth-mri</onlink>\n",
      "\t\t\t\t\t</citeinfo>\n",
      "\t\t\t\t</lworkcit>\n",
      "\t\t\t</citeinfo>\n",
      "\t\t</citation>\n",
      "\t\t<descript>\n",
      "\t\t\t<abstract>This\n",
      "\n",
      "indexSpace = 4559\n",
      "https://doi.org/10.5066/P9PBDSA1.\n",
      "\n",
      "McCafferty,\n",
      "\n",
      "indexSpace = 4796\n",
      "https://doi.org/10.5066/P9R05B0M</abstract>\n",
      "\t\t\t<purpose>The\n",
      "\n",
      "indexSpace = 6449\n",
      "https://doi.org/10.3133/fs20193007.\n",
      "\n",
      "McCafferty,\n",
      "\n",
      "indexSpace = 6658\n",
      "https://doi.org/10.5066/P9PBDSA1.\n",
      "\n",
      "McCafferty,\n",
      "\n",
      "indexSpace = 7051\n",
      "https://doi.org/10.5066/P9R05B0M</supplinf>\n",
      "\t\t</descript>\n",
      "\t\t<timeperd>\n",
      "\t\t\t<timeinfo>\n",
      "\t\t\t\t<rngdates>\n",
      "\t\t\t\t\t<begdate>20200302</begdate>\n",
      "\t\t\t\t\t<enddate>20210420</enddate>\n",
      "\t\t\t\t</rngdates>\n",
      "\t\t\t</timeinfo>\n",
      "\t\t\t<current>ground\n",
      "\n",
      "indexSpace = 19648\n",
      "https://doi.org/10.5066/P9TK8KMM</eadetcit>\n",
      "\t\t</overview>\n",
      "\t\t<overview>\n",
      "\t\t\t<eaover>Survey\n",
      "\n",
      "indexSpace = 19977\n",
      "https://doi.org/10.5066/P9TK8KMM</eadetcit>\n",
      "\t\t</overview>\n",
      "\t</eainfo>\n",
      "\t<distinfo>\n",
      "\t\t<distrib>\n",
      "\t\t\t<cntinfo>\n",
      "\t\t\t\t<cntorgp>\n",
      "\t\t\t\t\t<cntorg>U.S.\n",
      "\n",
      "indexSpace = 20507\n",
      "https://www.sciencebase.gov/catalog/item/624347bfd34e22d73748d357</resdesc>\n",
      "\t\t<distliab>Unless\n",
      "\n",
      "indexSpace = 22018\n",
      "https://sciencebase.usgs.gov/manager/item/624347bfd34e22d73748d357/file/cl1nvlh99003q13pic5kt8ple</networkr>\n",
      "\t\t\t\t\t\t\t</networka>\n",
      "\t\t\t\t\t\t</computer>\n",
      "\t\t\t\t\t</onlinopt>\n",
      "\t\t\t\t</digtopt>\n",
      "\t\t\t</digform>\n",
      "\t\t\t<digform>\n",
      "\t\t\t\t<digtinfo>\n",
      "\t\t\t\t\t<formname>PDF</formname>\n",
      "\t\t\t\t\t<formvern>1</formvern>\n",
      "\t\t\t\t\t<formspec>MO20F0196_USGS_GAP-Geophysical_Airborne_Survey_Report.pdf</formspec>\n",
      "\t\t\t\t\t<formcont>Contractor's\n",
      "\n",
      "indexSpace = 22778\n",
      "https://www.sciencebase.gov/catalog/file/get/624347bfd34e22d73748d357?f=__disk__a7%2F97%2Fee%2Fa797ee1019a9f1bcd4798496c608d2efdb330644</networkr>\n",
      "\t\t\t\t\t\t\t</networka>\n",
      "\t\t\t\t\t\t</computer>\n",
      "\t\t\t\t\t</onlinopt>\n",
      "\t\t\t\t</digtopt>\n",
      "\t\t\t</digform>\n",
      "\t\t\t<digform>\n",
      "\t\t\t\t<digtinfo>\n",
      "\t\t\t\t\t<formname>JPG</formname>\n",
      "\t\t\t\t\t<formvern>1</formvern>\n",
      "\t\t\t\t\t<formspec>MO20F0196_USGS_GAP_MagAnomMap_GapOverview.jpg</formspec>\n",
      "\t\t\t\t\t<formcont>J(oint)\n",
      "\n",
      "indexSpace = 24118\n",
      "https://www.sciencebase.gov/catalog/file/get/624347bfd34e22d73748d357?f=__disk__4c%2F34%2F7f%2F4c347f624348773ec0ea51d0313fdce5010f9d2b</networkr>\n",
      "\t\t\t\t\t\t\t</networka>\n",
      "\t\t\t\t\t\t</computer>\n",
      "\t\t\t\t\t</onlinopt>\n",
      "\t\t\t\t</digtopt>\n",
      "\t\t\t</digform>\n",
      "\t\t\t<digform>\n",
      "\t\t\t\t<digtinfo>\n",
      "\t\t\t\t\t<formname>SHP</formname>\n",
      "\t\t\t\t\t<formvern>1</formvern>\n",
      "\t\t\t\t\t<formspec>USA-Gap-Airborne-Survey-2021_LinePath.shp</formspec>\n",
      "\t\t\t\t\t<formcont>ESRI\n",
      "\n",
      "indexSpace = 24831\n",
      "https://www.sciencebase.gov/catalog/file/get/624347bfd34e22d73748d357?f=__disk__03%2Fc7%2F89%2F03c789934b0b4e0b4ba5de96af143e2b65e57505</networkr>\n",
      "\t\t\t\t\t\t\t</networka>\n",
      "\t\t\t\t\t\t</computer>\n",
      "\t\t\t\t\t</onlinopt>\n",
      "\t\t\t\t</digtopt>\n",
      "\t\t\t</digform>\n",
      "\t\t\t<fees>none</fees>\n",
      "\t\t</stdorder>\n",
      "\t</distinfo>\n",
      "\t<metainfo>\n",
      "\t\t<metd>20220526</metd>\n",
      "\t\t<metc>\n",
      "\t\t\t<cntinfo>\n",
      "\t\t\t\t<cntperp>\n",
      "\t\t\t\t\t<cntper>Dylan\n",
      "\n"
     ]
    }
   ],
   "source": [
    "#Find all links in metdata and print out to check\n",
    "#Note that this terminates the string listing at the first space after http - this isn't the end of the link\n",
    "#As a result there are generally too many characters printed in the link - select corect part of URL and check\n",
    "#manually in the web browser\n",
    "#Find all links in metdata and print out to check\n",
    "import re\n",
    "linkLoc = [m.start() for m in re.finditer('http', metaData)]\n",
    "#print (linkLoc)\n",
    "for i in range(len(linkLoc)):\n",
    " indexSpace = metaData.find(' ',linkLoc[i])\n",
    " print ('indexSpace = ' + str(indexSpace))\n",
    " linkURL = metaData[linkLoc[i]:indexSpace]\n",
    " print (linkURL +'\\n')"
   ]
  },
  {
   "cell_type": "markdown",
   "metadata": {},
   "source": [
    "\n",
    "> - **Be sure to check DOI links when SB item goes public** \n",
    "> - Got quite a bit other broken links - that's the problem with direct file URLs - they can change when the file is reuploaded or for other changes sometimes performed by ScienceBase\n",
    "\n",
    "Invalid Network_Resource_Name: \"https://www.sciencebase.gov/catalog/file/get/62434c50d34e22d73748d366?f=__disk__68%2F98%2Fdb%2F6898db1da809a774f7ed36d4d7a82a6afd517465\"\n",
    "Invalid Network_Resource_Name: \"https://doi.org/10.5066/P9TK8KMM\"\n",
    "Invalid Network_Resource_Name: \"https://www.sciencebase.gov/catalog/item/62434c50d34e22d73748d366\"\n",
    "Invalid Network_Resource_Name: \"https://www.sciencebase.gov/catalog/file/get/62434c50d34e22d73748d366?f=__disk__20%2Fc9%2F37%2F20c93713022bcbe655c26bbac2ccca0dd3f3221a\"\n",
    "Invalid Network_Resource_Name: \"https://www.sciencebase.gov/catalog/file/get/62434c50d34e22d73748d366?f=__disk__ab%2F63%2Fd3%2Fab63d3d78ee5dc5c9dc7552d6d4fdbbaca9fb9a2\"\n",
    "Invalid Network_Resource_Name: \"https://www.sciencebase.gov/catalog/file/get/62434c50d34e22d73748d366?f=__disk__20%2Fc9%2F37%2F20c93713022bcbe655c26bbac2ccca0dd3f3221a\"\n",
    "\n"
   ]
  },
  {
   "cell_type": "markdown",
   "metadata": {},
   "source": [
    "##### c.\tMetadata explains field names and values contained in the dataset. Data tables, fields, and values must be explained clearly so that a non-specialist can understand them; verify that entity and attribute content of metadata (detailed section or data dictionary) corresponds to data set;"
   ]
  },
  {
   "cell_type": "code",
   "execution_count": 14,
   "metadata": {
    "scrolled": true
   },
   "outputs": [
    {
     "data": {
      "text/markdown": [
       "**MO20F0196_USGS_GAP_MagAnomMap_GapOverview.jpg**"
      ],
      "text/plain": [
       "<IPython.core.display.Markdown object>"
      ]
     },
     "metadata": {},
     "output_type": "display_data"
    },
    {
     "data": {
      "text/markdown": [
       "- 3-band raster giving overview of aeromagnetic and radiometric data.  Data null value is -1e32 for tabular data and (RGB value) 255,255,255 for raster data."
      ],
      "text/plain": [
       "<IPython.core.display.Markdown object>"
      ]
     },
     "metadata": {},
     "output_type": "display_data"
    },
    {
     "name": "stdout",
     "output_type": "stream",
     "text": [
      "\n",
      "attrlabl:  Value\n",
      "attrdef:  Unique numeric values contained in each raster cell.\n",
      "\t<rdom>\n",
      "\t\t<rdomMIN>\t|--> 0\n",
      "\t\t<rdomMAX>\t|--> 255\n"
     ]
    },
    {
     "data": {
      "text/markdown": [
       "**USA-Gap-Airborne-survey-2021_LinePath.shp**"
      ],
      "text/plain": [
       "<IPython.core.display.Markdown object>"
      ]
     },
     "metadata": {},
     "output_type": "display_data"
    },
    {
     "data": {
      "text/markdown": [
       "- Shapefile of the locations of the airborne geophysical survey flightlines"
      ],
      "text/plain": [
       "<IPython.core.display.Markdown object>"
      ]
     },
     "metadata": {},
     "output_type": "display_data"
    },
    {
     "name": "stdout",
     "output_type": "stream",
     "text": [
      "\n",
      "attrlabl:  FID\n",
      "attrdef:  Unique internal feature number managed by Esri\n",
      "\t<rdom>\n",
      "\t\t<rdomMIN>\t|--> 0\n",
      "\t\t<rdomMAX>\t|--> 0\n",
      "\n",
      "attrlabl:  Shape\n",
      "attrdef:  Internal feature geometry managed by Esri\n",
      "\t<udom>\t\t|--> geometry: Polyline\n",
      "\n",
      "attrlabl:  ID\n",
      "attrdef:  Original shape ID\n",
      "\t<rdom>\n",
      "\t\t<rdomMIN>\t|--> 0\n",
      "\t\t<rdomMAX>\t|--> 1689\n"
     ]
    },
    {
     "data": {
      "text/markdown": [
       "**USA-Gap-Airborne-survey-2021_Footprint.shp**"
      ],
      "text/plain": [
       "<IPython.core.display.Markdown object>"
      ]
     },
     "metadata": {},
     "output_type": "display_data"
    },
    {
     "data": {
      "text/markdown": [
       "- Shapefile of the lateral extents of the airborne geophysical survey area"
      ],
      "text/plain": [
       "<IPython.core.display.Markdown object>"
      ]
     },
     "metadata": {},
     "output_type": "display_data"
    },
    {
     "name": "stdout",
     "output_type": "stream",
     "text": [
      "\n",
      "attrlabl:  FID\n",
      "attrdef:  Unique internal feature number managed by Esri\n",
      "\t<rdom>\n",
      "\t\t<rdomMIN>\t|--> 0\n",
      "\t\t<rdomMAX>\t|--> 0\n",
      "\n",
      "attrlabl:  Shape\n",
      "attrdef:  Internal feature geometry managed by Esri\n",
      "\t<udom>\t\t|--> geometry: Polygon\n",
      "\n",
      "attrlabl:  ID\n",
      "attrdef:  Original shape ID\n",
      "\t<rdom>\n",
      "\t\t<rdomMIN>\t|--> 0\n",
      "\t\t<rdomMAX>\t|--> 0\n"
     ]
    }
   ],
   "source": [
    "# List Entity and Attribute information from metadata file\n",
    "for detailed in root.iter('detailed'):\n",
    " for enttyp in detailed.iter('enttyp'):\n",
    "  enttypl = enttyp.find('enttypl')\n",
    "  printmd ('**' + enttypl.text + \"**\")\n",
    "  enttypd = enttyp.find('enttypd')\n",
    "  printmd ('- ' + enttypd.text)\n",
    " for attr in detailed.findall('attr'):\n",
    "  attrlabl = attr.find('attrlabl')\n",
    "  print('\\nattrlabl: ', attrlabl.text)\n",
    "  attrdef = attr.find('attrdef')\n",
    "  print('attrdef: ', attrdef.text)\n",
    "  for attrdomv in attr.findall('attrdomv'):\n",
    "    udom = attrdomv.find('udom')\n",
    "    edom = attrdomv.find('edom')\n",
    "    rdom = attrdomv.find('rdom')\n",
    "    if udom != None:\n",
    "     #print ('\\t<Udom>')\n",
    "     print('\\t<udom>\\t\\t|-->', udom.text)\n",
    "    if edom != None:\n",
    "     for edom in attrdomv.findall('edom'):\n",
    "      print ('\\t<edom>')\n",
    "      edomv = edom.find('edomv')\n",
    "      print('\\t\\t<edomv>\\t\\t|-->', edomv.text)\n",
    "      edomvd = edom.find('edomvd')\n",
    "      print('\\t\\t\\t<edomvd>\\t|-->', edomvd.text)\n",
    "      edomvds = edom.find('edomvds')      \n",
    "      print('\\t\\t\\t<edomvds>\\t|-->', edomvds.text)   \n",
    "    if rdom != None:  \n",
    "     for rdom in attrdomv.findall('rdom'):\n",
    "        print ('\\t<rdom>')\n",
    "        rdommin = rdom.find('rdommin')\n",
    "        print('\\t\\t<rdomMIN>\\t|-->', rdommin.text)\n",
    "        rdommax = rdom.find('rdommax')\n",
    "        print('\\t\\t<rdomMAX>\\t|-->', rdommax.text)\n",
    "    \n",
    "    "
   ]
  },
  {
   "attachments": {
    "GAP_LinepathAttributeTable.png": {
     "image/png": "[encoded data removed]"
    }
   },
   "cell_type": "markdown",
   "metadata": {},
   "source": [
    "Looks good :)\n",
    "![GAP_LinepathAttributeTable.png](attachment:GAP_LinepathAttributeTable.png)"
   ]
  },
  {
   "attachments": {
    "GAP_ShapefileAttributeTable.png": {
     "image/png": "[encoded data removed]"
    }
   },
   "cell_type": "markdown",
   "metadata": {},
   "source": [
    "> - Shape file entity and attributes OK, no desired changes\n",
    "![GAP_ShapefileAttributeTable.png](attachment:GAP_ShapefileAttributeTable.png)"
   ]
  },
  {
   "cell_type": "markdown",
   "metadata": {},
   "source": [
    "\n"
   ]
  },
  {
   "cell_type": "markdown",
   "metadata": {},
   "source": [
    "###### d.\tIf applicable, geographic coordinates are provided, and they match location keywords in metadata and also agree with the data; "
   ]
  },
  {
   "cell_type": "code",
   "execution_count": 15,
   "metadata": {},
   "outputs": [
    {
     "name": "stdout",
     "output_type": "stream",
     "text": [
      "westbc: -89.9509\n",
      "eastbc: -88.8396\n",
      "northbc: 38.2952\n",
      "southbc: 36.8304\n"
     ]
    }
   ],
   "source": [
    "# Get the bounding coordinates from the metadata\n",
    "# Compare this to the metadata Entity and Atribute item\n",
    "for bounding in root.iter('bounding'):\n",
    " westbc = bounding.find('westbc')\n",
    " print ('westbc: ' + westbc.text)\n",
    " eastbc = bounding.find('eastbc')\n",
    " print ('eastbc: ' + eastbc.text)\n",
    " northbc = bounding.find('northbc')\n",
    " print ('northbc: ' + northbc.text)\n",
    " southbc = bounding.find('southbc')\n",
    " print ('southbc: ' + southbc.text)"
   ]
  },
  {
   "cell_type": "markdown",
   "metadata": {},
   "source": [
    "##### e.\tKeywords accurately represent the data and include terms from standard vocabularies whenever possible (such as the USGS Thesaurus, http://www.usgs.gov/science/services.html or  the Biocomplexity Thesaurus, http://www.usgs.gov/core_science_systems/csas/biocomplexity_thesaurus"
   ]
  },
  {
   "cell_type": "code",
   "execution_count": 16,
   "metadata": {
    "scrolled": true
   },
   "outputs": [
    {
     "data": {
      "text/markdown": [
       "***Theme Keywords*** <br> ==============="
      ],
      "text/plain": [
       "<IPython.core.display.Markdown object>"
      ]
     },
     "metadata": {},
     "output_type": "display_data"
    },
    {
     "data": {
      "text/markdown": [
       "**USGS Thesaurus**"
      ],
      "text/plain": [
       "<IPython.core.display.Markdown object>"
      ]
     },
     "metadata": {},
     "output_type": "display_data"
    },
    {
     "data": {
      "text/markdown": [
       "- economy"
      ],
      "text/plain": [
       "<IPython.core.display.Markdown object>"
      ]
     },
     "metadata": {},
     "output_type": "display_data"
    },
    {
     "data": {
      "text/markdown": [
       "- geophysics"
      ],
      "text/plain": [
       "<IPython.core.display.Markdown object>"
      ]
     },
     "metadata": {},
     "output_type": "display_data"
    },
    {
     "data": {
      "text/markdown": [
       "- geospatial datasets"
      ],
      "text/plain": [
       "<IPython.core.display.Markdown object>"
      ]
     },
     "metadata": {},
     "output_type": "display_data"
    },
    {
     "data": {
      "text/markdown": [
       "- geoscientific information"
      ],
      "text/plain": [
       "<IPython.core.display.Markdown object>"
      ]
     },
     "metadata": {},
     "output_type": "display_data"
    },
    {
     "data": {
      "text/markdown": [
       "- aeromagnetic surveying"
      ],
      "text/plain": [
       "<IPython.core.display.Markdown object>"
      ]
     },
     "metadata": {},
     "output_type": "display_data"
    },
    {
     "data": {
      "text/markdown": [
       "- magnetic field (earth)"
      ],
      "text/plain": [
       "<IPython.core.display.Markdown object>"
      ]
     },
     "metadata": {},
     "output_type": "display_data"
    },
    {
     "data": {
      "text/markdown": [
       "- horizontal magnetic gradiometry"
      ],
      "text/plain": [
       "<IPython.core.display.Markdown object>"
      ]
     },
     "metadata": {},
     "output_type": "display_data"
    },
    {
     "data": {
      "text/markdown": [
       "- aeroradiometric surveying"
      ],
      "text/plain": [
       "<IPython.core.display.Markdown object>"
      ]
     },
     "metadata": {},
     "output_type": "display_data"
    },
    {
     "data": {
      "text/markdown": [
       "- potassium"
      ],
      "text/plain": [
       "<IPython.core.display.Markdown object>"
      ]
     },
     "metadata": {},
     "output_type": "display_data"
    },
    {
     "data": {
      "text/markdown": [
       "- uranium"
      ],
      "text/plain": [
       "<IPython.core.display.Markdown object>"
      ]
     },
     "metadata": {},
     "output_type": "display_data"
    },
    {
     "data": {
      "text/markdown": [
       "- thorium"
      ],
      "text/plain": [
       "<IPython.core.display.Markdown object>"
      ]
     },
     "metadata": {},
     "output_type": "display_data"
    },
    {
     "data": {
      "text/markdown": [
       "- radon"
      ],
      "text/plain": [
       "<IPython.core.display.Markdown object>"
      ]
     },
     "metadata": {},
     "output_type": "display_data"
    },
    {
     "data": {
      "text/markdown": [
       "**none**"
      ],
      "text/plain": [
       "<IPython.core.display.Markdown object>"
      ]
     },
     "metadata": {},
     "output_type": "display_data"
    },
    {
     "data": {
      "text/markdown": [
       "- AASG"
      ],
      "text/plain": [
       "<IPython.core.display.Markdown object>"
      ]
     },
     "metadata": {},
     "output_type": "display_data"
    },
    {
     "data": {
      "text/markdown": [
       "- Association of State Geologists"
      ],
      "text/plain": [
       "<IPython.core.display.Markdown object>"
      ]
     },
     "metadata": {},
     "output_type": "display_data"
    },
    {
     "data": {
      "text/markdown": [
       "- Geology, Geophysics, and Geochemistry Science Center"
      ],
      "text/plain": [
       "<IPython.core.display.Markdown object>"
      ]
     },
     "metadata": {},
     "output_type": "display_data"
    },
    {
     "data": {
      "text/markdown": [
       "- GGGSC"
      ],
      "text/plain": [
       "<IPython.core.display.Markdown object>"
      ]
     },
     "metadata": {},
     "output_type": "display_data"
    },
    {
     "data": {
      "text/markdown": [
       "- Earth Mapping Resources Initiative"
      ],
      "text/plain": [
       "<IPython.core.display.Markdown object>"
      ]
     },
     "metadata": {},
     "output_type": "display_data"
    },
    {
     "data": {
      "text/markdown": [
       "- EarthMRI"
      ],
      "text/plain": [
       "<IPython.core.display.Markdown object>"
      ]
     },
     "metadata": {},
     "output_type": "display_data"
    },
    {
     "data": {
      "text/markdown": [
       "- horizontal magnetic gradiometry"
      ],
      "text/plain": [
       "<IPython.core.display.Markdown object>"
      ]
     },
     "metadata": {},
     "output_type": "display_data"
    },
    {
     "data": {
      "text/markdown": [
       "- airborne geophysical survey"
      ],
      "text/plain": [
       "<IPython.core.display.Markdown object>"
      ]
     },
     "metadata": {},
     "output_type": "display_data"
    },
    {
     "data": {
      "text/markdown": [
       "- Mineral Resources Program"
      ],
      "text/plain": [
       "<IPython.core.display.Markdown object>"
      ]
     },
     "metadata": {},
     "output_type": "display_data"
    },
    {
     "data": {
      "text/markdown": [
       "- MRP"
      ],
      "text/plain": [
       "<IPython.core.display.Markdown object>"
      ]
     },
     "metadata": {},
     "output_type": "display_data"
    },
    {
     "data": {
      "text/markdown": [
       "- Earthquake Hazards Program"
      ],
      "text/plain": [
       "<IPython.core.display.Markdown object>"
      ]
     },
     "metadata": {},
     "output_type": "display_data"
    },
    {
     "data": {
      "text/markdown": [
       "- EHP"
      ],
      "text/plain": [
       "<IPython.core.display.Markdown object>"
      ]
     },
     "metadata": {},
     "output_type": "display_data"
    },
    {
     "data": {
      "text/markdown": [
       "- National Cooperative Geologic Mapping Program"
      ],
      "text/plain": [
       "<IPython.core.display.Markdown object>"
      ]
     },
     "metadata": {},
     "output_type": "display_data"
    },
    {
     "data": {
      "text/markdown": [
       "- NCGMP"
      ],
      "text/plain": [
       "<IPython.core.display.Markdown object>"
      ]
     },
     "metadata": {},
     "output_type": "display_data"
    },
    {
     "data": {
      "text/markdown": [
       "- U.S. Geological Survey"
      ],
      "text/plain": [
       "<IPython.core.display.Markdown object>"
      ]
     },
     "metadata": {},
     "output_type": "display_data"
    },
    {
     "data": {
      "text/markdown": [
       "- USGS"
      ],
      "text/plain": [
       "<IPython.core.display.Markdown object>"
      ]
     },
     "metadata": {},
     "output_type": "display_data"
    },
    {
     "data": {
      "text/markdown": [
       "**ISO 19115 Topic Category**"
      ],
      "text/plain": [
       "<IPython.core.display.Markdown object>"
      ]
     },
     "metadata": {},
     "output_type": "display_data"
    },
    {
     "data": {
      "text/markdown": [
       "- geoscientificInformation"
      ],
      "text/plain": [
       "<IPython.core.display.Markdown object>"
      ]
     },
     "metadata": {},
     "output_type": "display_data"
    },
    {
     "data": {
      "text/markdown": [
       "- economy"
      ],
      "text/plain": [
       "<IPython.core.display.Markdown object>"
      ]
     },
     "metadata": {},
     "output_type": "display_data"
    }
   ],
   "source": [
    "#Load Theme Keywords\n",
    "printmd ('***Theme Keywords*** <br> ===============')\n",
    "for theme in root.iter('theme'):\n",
    " themekt = theme.find('themekt')\n",
    " printmd (\"**\" + themekt.text + \"**\")\n",
    " for themekey in theme.findall('themekey'):\n",
    "        printmd('- ' + themekey.text)"
   ]
  },
  {
   "cell_type": "markdown",
   "metadata": {},
   "source": [
    "<b>Unrecognized keyword: \"economy\"</b>\n",
    "    \n",
    "<b>Unrecognized keyword: \"geoscientific information\"</b>\n",
    "    \n",
    "<b>Unrecognized keyword: \"horizontal magnetic gradiometry\"</b>\n",
    "> - please add these to thesaurus \"none\""
   ]
  },
  {
   "cell_type": "code",
   "execution_count": 20,
   "metadata": {},
   "outputs": [
    {
     "data": {
      "text/markdown": [
       "***Place Keywords*** <br> =============="
      ],
      "text/plain": [
       "<IPython.core.display.Markdown object>"
      ]
     },
     "metadata": {},
     "output_type": "display_data"
    },
    {
     "data": {
      "text/markdown": [
       "**Geographic Names Information System (GNIS)**"
      ],
      "text/plain": [
       "<IPython.core.display.Markdown object>"
      ]
     },
     "metadata": {},
     "output_type": "display_data"
    },
    {
     "data": {
      "text/markdown": [
       "- Ballard County"
      ],
      "text/plain": [
       "<IPython.core.display.Markdown object>"
      ]
     },
     "metadata": {},
     "output_type": "display_data"
    },
    {
     "data": {
      "text/markdown": [
       "- Carlisle County"
      ],
      "text/plain": [
       "<IPython.core.display.Markdown object>"
      ]
     },
     "metadata": {},
     "output_type": "display_data"
    },
    {
     "data": {
      "text/markdown": [
       "- Jackson County"
      ],
      "text/plain": [
       "<IPython.core.display.Markdown object>"
      ]
     },
     "metadata": {},
     "output_type": "display_data"
    },
    {
     "data": {
      "text/markdown": [
       "- Jefferson County"
      ],
      "text/plain": [
       "<IPython.core.display.Markdown object>"
      ]
     },
     "metadata": {},
     "output_type": "display_data"
    },
    {
     "data": {
      "text/markdown": [
       "- Johnson County"
      ],
      "text/plain": [
       "<IPython.core.display.Markdown object>"
      ]
     },
     "metadata": {},
     "output_type": "display_data"
    },
    {
     "data": {
      "text/markdown": [
       "- Massac County"
      ],
      "text/plain": [
       "<IPython.core.display.Markdown object>"
      ]
     },
     "metadata": {},
     "output_type": "display_data"
    },
    {
     "data": {
      "text/markdown": [
       "- Alexander County"
      ],
      "text/plain": [
       "<IPython.core.display.Markdown object>"
      ]
     },
     "metadata": {},
     "output_type": "display_data"
    },
    {
     "data": {
      "text/markdown": [
       "- McCracken County"
      ],
      "text/plain": [
       "<IPython.core.display.Markdown object>"
      ]
     },
     "metadata": {},
     "output_type": "display_data"
    },
    {
     "data": {
      "text/markdown": [
       "- Perry County"
      ],
      "text/plain": [
       "<IPython.core.display.Markdown object>"
      ]
     },
     "metadata": {},
     "output_type": "display_data"
    },
    {
     "data": {
      "text/markdown": [
       "- Pulaski County"
      ],
      "text/plain": [
       "<IPython.core.display.Markdown object>"
      ]
     },
     "metadata": {},
     "output_type": "display_data"
    },
    {
     "data": {
      "text/markdown": [
       "- Randolph County"
      ],
      "text/plain": [
       "<IPython.core.display.Markdown object>"
      ]
     },
     "metadata": {},
     "output_type": "display_data"
    },
    {
     "data": {
      "text/markdown": [
       "- St. Clair County"
      ],
      "text/plain": [
       "<IPython.core.display.Markdown object>"
      ]
     },
     "metadata": {},
     "output_type": "display_data"
    },
    {
     "data": {
      "text/markdown": [
       "- Union County"
      ],
      "text/plain": [
       "<IPython.core.display.Markdown object>"
      ]
     },
     "metadata": {},
     "output_type": "display_data"
    },
    {
     "data": {
      "text/markdown": [
       "- Washington County"
      ],
      "text/plain": [
       "<IPython.core.display.Markdown object>"
      ]
     },
     "metadata": {},
     "output_type": "display_data"
    },
    {
     "data": {
      "text/markdown": [
       "- Williamson County"
      ],
      "text/plain": [
       "<IPython.core.display.Markdown object>"
      ]
     },
     "metadata": {},
     "output_type": "display_data"
    },
    {
     "data": {
      "text/markdown": [
       "- Franklin County"
      ],
      "text/plain": [
       "<IPython.core.display.Markdown object>"
      ]
     },
     "metadata": {},
     "output_type": "display_data"
    },
    {
     "data": {
      "text/markdown": [
       "- Bollinger County"
      ],
      "text/plain": [
       "<IPython.core.display.Markdown object>"
      ]
     },
     "metadata": {},
     "output_type": "display_data"
    },
    {
     "data": {
      "text/markdown": [
       "- Cape Girardeau County"
      ],
      "text/plain": [
       "<IPython.core.display.Markdown object>"
      ]
     },
     "metadata": {},
     "output_type": "display_data"
    },
    {
     "data": {
      "text/markdown": [
       "- Mississippi County"
      ],
      "text/plain": [
       "<IPython.core.display.Markdown object>"
      ]
     },
     "metadata": {},
     "output_type": "display_data"
    },
    {
     "data": {
      "text/markdown": [
       "- New Madrid County"
      ],
      "text/plain": [
       "<IPython.core.display.Markdown object>"
      ]
     },
     "metadata": {},
     "output_type": "display_data"
    },
    {
     "data": {
      "text/markdown": [
       "- Perry County"
      ],
      "text/plain": [
       "<IPython.core.display.Markdown object>"
      ]
     },
     "metadata": {},
     "output_type": "display_data"
    },
    {
     "data": {
      "text/markdown": [
       "- Scott County"
      ],
      "text/plain": [
       "<IPython.core.display.Markdown object>"
      ]
     },
     "metadata": {},
     "output_type": "display_data"
    },
    {
     "data": {
      "text/markdown": [
       "- Stoddard County"
      ],
      "text/plain": [
       "<IPython.core.display.Markdown object>"
      ]
     },
     "metadata": {},
     "output_type": "display_data"
    },
    {
     "data": {
      "text/markdown": [
       "- Cape Girardeau"
      ],
      "text/plain": [
       "<IPython.core.display.Markdown object>"
      ]
     },
     "metadata": {},
     "output_type": "display_data"
    },
    {
     "data": {
      "text/markdown": [
       "**Common geographic areas**"
      ],
      "text/plain": [
       "<IPython.core.display.Markdown object>"
      ]
     },
     "metadata": {},
     "output_type": "display_data"
    },
    {
     "data": {
      "text/markdown": [
       "- United States"
      ],
      "text/plain": [
       "<IPython.core.display.Markdown object>"
      ]
     },
     "metadata": {},
     "output_type": "display_data"
    },
    {
     "data": {
      "text/markdown": [
       "- Missouri"
      ],
      "text/plain": [
       "<IPython.core.display.Markdown object>"
      ]
     },
     "metadata": {},
     "output_type": "display_data"
    },
    {
     "data": {
      "text/markdown": [
       "- Illinois"
      ],
      "text/plain": [
       "<IPython.core.display.Markdown object>"
      ]
     },
     "metadata": {},
     "output_type": "display_data"
    },
    {
     "data": {
      "text/markdown": [
       "- Kentucky"
      ],
      "text/plain": [
       "<IPython.core.display.Markdown object>"
      ]
     },
     "metadata": {},
     "output_type": "display_data"
    },
    {
     "data": {
      "text/markdown": [
       "**Types**"
      ],
      "text/plain": [
       "<IPython.core.display.Markdown object>"
      ]
     },
     "metadata": {},
     "output_type": "display_data"
    },
    {
     "data": {
      "text/markdown": [
       "- Downloadable"
      ],
      "text/plain": [
       "<IPython.core.display.Markdown object>"
      ]
     },
     "metadata": {},
     "output_type": "display_data"
    },
    {
     "data": {
      "text/markdown": [
       "- GeoTIFF"
      ],
      "text/plain": [
       "<IPython.core.display.Markdown object>"
      ]
     },
     "metadata": {},
     "output_type": "display_data"
    },
    {
     "data": {
      "text/markdown": [
       "- Map Service"
      ],
      "text/plain": [
       "<IPython.core.display.Markdown object>"
      ]
     },
     "metadata": {},
     "output_type": "display_data"
    },
    {
     "data": {
      "text/markdown": [
       "- Rasters"
      ],
      "text/plain": [
       "<IPython.core.display.Markdown object>"
      ]
     },
     "metadata": {},
     "output_type": "display_data"
    }
   ],
   "source": [
    "#Load Place Keywords\n",
    "printmd ('***Place Keywords*** <br> ==============')\n",
    "for place in root.iter('place'):\n",
    " placekt = place.find('placekt')\n",
    " printmd (\"**\" + placekt.text + \"**\")\n",
    " for placekey in place.findall('placekey'):\n",
    "        printmd('- ' + placekey.text)"
   ]
  },
  {
   "cell_type": "markdown",
   "metadata": {},
   "source": [
    "##### f. Information about data processing steps, methodology, and lineage are included in the record and match any associated publications. Could a scientist or technician recreate the final data set from the descriptions? Can documentation about methodology be easily found and used? Are processing software and versions identified, if applicable?;"
   ]
  },
  {
   "cell_type": "code",
   "execution_count": 21,
   "metadata": {},
   "outputs": [
    {
     "name": "stdout",
     "output_type": "stream",
     "text": [
      "The airborne survey was flown under contract to the U.S. Geological Survey by Terraquest, Ltd from March 16, 2021 to July 13, 2021. The magnetic data were acquired with 3 cesium vapor magnetometers. The radiometric data were acquired with radiation Solutions RS-500 gamma ray spectrometer. Data were collected along north-south flight lines spaced 250 meters (m) apart with east-west tie lines flown every 3500 m. A mean terrain clearance of 100 m was maintained; in some areas safety dictated a higher elevation. A total of 64,227.3 line-kilometers (km) of data were collected.\n",
      "- 20210713\n",
      "\n",
      "1) Lag Correction of Total Magnetic Field, 2) Diurnal Data and diurnal correction of Total Magnetic Field, 3) Total Magnetic Field Tie-Traverse Line Intersection Leveling, 4) Total Magnetic Field Micro-leveling, 5) Calculated Vertical Derivative, 6) Measured Horizontal Gradients, 7) Reconstructed Total Magnetic Field (RTF), 8) Data Gridding, 9) Magnetic Database Output\n",
      "- 20211115\n",
      "\n",
      "1) Energy Windows, 2) NASVD Noise Reduction, 3) Aircraft and Cosmic Background Correction, 4) Atmospheric Background Correction, 5) Compton Stripping, 6) Altitude Attenuation Correction, 7) Microleveling, 8) Conversion to Ground Units, 9) Gridding, 10) Radiometric Database\n",
      "- 20211115\n",
      "\n",
      "Final data and contractor's report were accepted and received by USGS from Terraquest Ltd\n",
      "- 20211115\n",
      "\n",
      "Final data were exported to CSV-format and NetCDF to meet open data requirements.\n",
      "- 20220404\n",
      "\n",
      "Shapefile of the locations of the airborne geophysical survey flightlines\n",
      "- 20220404\n",
      "\n",
      "Shapefile of the lateral extents of the airborne geophysical survey area\n",
      "- 20220404\n",
      "\n"
     ]
    }
   ],
   "source": [
    "#Load process steps\n",
    "for procstep in root.iter('procstep'):\n",
    " procdesc = procstep.find('procdesc')\n",
    " print (procdesc.text)\n",
    " procdate = procstep.find('procdate')\n",
    " print ('- ' + procdate.text + '\\n')"
   ]
  },
  {
   "cell_type": "markdown",
   "metadata": {},
   "source": [
    "> - process description text looks OK\n",
    "> - check periods"
   ]
  },
  {
   "cell_type": "markdown",
   "metadata": {},
   "source": [
    "##### g. The metadata provides complete and current information about how to use the data files – access instructions, unusual software requirements, data models, definitions of terms, size of the data, etc;"
   ]
  },
  {
   "cell_type": "markdown",
   "metadata": {},
   "source": [
    "> - **Not applicable on landing page for this data release.**  The only data on the landing page is a SB Arc GIS service described in the E and A section appropriately."
   ]
  },
  {
   "cell_type": "markdown",
   "metadata": {},
   "source": [
    "###### h.\tThe data quality section adequately describes the procedures used to ensure the quality of the data;"
   ]
  },
  {
   "cell_type": "code",
   "execution_count": 22,
   "metadata": {},
   "outputs": [
    {
     "data": {
      "text/markdown": [
       "- attraccr <br> Daily quality control of raw radiometric and magnetic data was performed by the contractor and is described in the contractor report. Further quality control measures occurred post flight by the contractor and USGS scientist-in-charge before approval and acceptance of the final data. The data have been peer reviewed and compared with related ancillary data."
      ],
      "text/plain": [
       "<IPython.core.display.Markdown object>"
      ]
     },
     "metadata": {},
     "output_type": "display_data"
    },
    {
     "data": {
      "text/markdown": [
       "- logic <br> Data were visually inspected for reasonableness and spatial consistency."
      ],
      "text/plain": [
       "<IPython.core.display.Markdown object>"
      ]
     },
     "metadata": {},
     "output_type": "display_data"
    },
    {
     "data": {
      "text/markdown": [
       "- complete <br> Data set is considered complete for the information presented, as described in the abstract. Users are advised to read the rest of the metadata record carefully for additional details. All data as part of this collection were included in this data release for the region and time period specified in this metadata."
      ],
      "text/plain": [
       "<IPython.core.display.Markdown object>"
      ]
     },
     "metadata": {},
     "output_type": "display_data"
    },
    {
     "data": {
      "text/markdown": [
       "- horizpar <br> Field quality control and assurance procedures were undertaken by the Terraquest field crew and are described in the contractor's report included with this data release."
      ],
      "text/plain": [
       "<IPython.core.display.Markdown object>"
      ]
     },
     "metadata": {},
     "output_type": "display_data"
    },
    {
     "data": {
      "text/markdown": [
       "- vertaccr <br> Field quality control and assurance procedures were undertaken by the Terraquest field crew and are described in the contractor's report included with this data release."
      ],
      "text/plain": [
       "<IPython.core.display.Markdown object>"
      ]
     },
     "metadata": {},
     "output_type": "display_data"
    }
   ],
   "source": [
    "#Load data quality items\n",
    "for attracc in root.iter('attracc'):\n",
    " attraccr = attracc.find('attraccr')\n",
    " printmd ('- attraccr <br> ' + attraccr.text)\n",
    "for dataqual in root.iter('dataqual'):\n",
    " logic = dataqual.find('logic')\n",
    " printmd ('- logic <br> ' + logic.text)\n",
    "for dataqual in root.iter('dataqual'):\n",
    " complete = dataqual.find('complete')\n",
    " printmd ('- complete <br> ' + complete.text)\n",
    "for horizpa in root.iter('horizpa'):\n",
    " horizpar = horizpa.find('horizpar')\n",
    " printmd ('- horizpar <br> ' + horizpar.text)\n",
    "for vertacc in root.iter('vertacc'):\n",
    " vertaccr = vertacc.find('vertaccr')\n",
    " printmd ('- vertaccr <br> ' + vertaccr.text)"
   ]
  },
  {
   "cell_type": "markdown",
   "metadata": {},
   "source": [
    "> No desired changes."
   ]
  },
  {
   "cell_type": "markdown",
   "metadata": {},
   "source": [
    "###### i.\tAccess constraints, use constraints, and distribution liability statements are included and are consistent with USGS policy:\n",
    "- desired accconst:<br>\n",
    "None. Please see 'Distribution Info' for details.\n",
    "\n",
    "\n",
    "- desired useconst:<br>\n",
    "Any use of trade, firm, or product names is for descriptive purposes only and does not imply endorsement by the U.S. Government.  Although these data have been processed successfully on a computer system at the U.S. Geological Survey (USGS), no warranty expressed or implied is made regarding the display or utility of the data for other purposes, nor on all computer systems, nor shall the act of distribution constitute any such warranty. The USGS or the U.S. Government shall not be held liable for improper or incorrect use of the data described and/or contained herein.\n",
    "\n",
    "\n",
    "- desired distliab:<br>\n",
    "Unless otherwise stated, all data, metadata and related materials are considered to satisfy the quality standards relative to the purpose for which the data were collected. Although these data and associated metadata have been reviewed for accuracy and completeness and approved for release by the U.S. Geological Survey (USGS), no warranty expressed or implied is made regarding the display or utility of the data for other purposes, nor on all computer systems, nor shall the act of distribution constitute any such warranty."
   ]
  },
  {
   "cell_type": "code",
   "execution_count": 23,
   "metadata": {},
   "outputs": [
    {
     "data": {
      "text/markdown": [
       "- actual accconst: <br> None. Please see 'Distribution Info' for details"
      ],
      "text/plain": [
       "<IPython.core.display.Markdown object>"
      ]
     },
     "metadata": {},
     "output_type": "display_data"
    },
    {
     "data": {
      "text/markdown": [
       "- actual useconst: <br> Any use of trade, firm, or product names is for descriptive purposes only and does not imply endorsement by the U.S. Government. Although these data have been processed successfully on a computer system at the U.S. Geological Survey (USGS), no warranty expressed or implied is made regarding the display or utility of the data for other purposes, nor on all computer systems, nor shall the act of distribution constitute any such warranty. The USGS or the U.S. Government shall not be held liable for improper or incorrect use of the data described and/or contained herein."
      ],
      "text/plain": [
       "<IPython.core.display.Markdown object>"
      ]
     },
     "metadata": {},
     "output_type": "display_data"
    },
    {
     "data": {
      "text/markdown": [
       "- actual distliab: <br> Unless otherwise stated, all data, metadata and related materials are considered to satisfy the quality standards relative to the purpose for which the data were collected. Although these data and associated metadata have been reviewed for accuracy and completeness and approved for release by the U.S. Geological Survey (USGS), no warranty expressed or implied is made regarding the display or utility of the data for other purposes, nor on all computer systems, nor shall the act of distribution constitute any such warranty."
      ],
      "text/plain": [
       "<IPython.core.display.Markdown object>"
      ]
     },
     "metadata": {},
     "output_type": "display_data"
    }
   ],
   "source": [
    "# Load liability statements to check against above text\n",
    "for idinfo in root.iter('idinfo'):\n",
    " accconst = idinfo.find('accconst')\n",
    " printmd ('- actual accconst: <br> ' + accconst.text)\n",
    "for idinfo in root.iter('idinfo'):\n",
    " useconst = idinfo.find('useconst')\n",
    " printmd ('- actual useconst: <br> ' + useconst.text)\n",
    "for distinfo in root.iter('distinfo'):\n",
    " distliab = distinfo.find('distliab')\n",
    " printmd ('- actual distliab: <br> ' + distliab.text)    "
   ]
  },
  {
   "cell_type": "markdown",
   "metadata": {},
   "source": [
    "> - No Desired Changes"
   ]
  },
  {
   "cell_type": "code",
   "execution_count": 24,
   "metadata": {
    "scrolled": true
   },
   "outputs": [
    {
     "name": "stdout",
     "output_type": "stream",
     "text": [
      "MO20F0196_USGS_GAP_MagAnomMap_GapOverview.jpg ,  https://www.sciencebase.gov/catalog/file/get/624347bfd34e22d73748d357?f=__disk__09%2F98%2F69%2F099869273da1e0c28f74be850cb5d32f8d0f676f ,  6496396\n",
      "MO20F0196_USGS_GAP_OrigContractorDeliverable.zip ,  https://sciencebase.usgs.gov/manager/item/624347bfd34e22d73748d357/file/cl1nvlh99003q13pic5kt8ple ,  3577030295\n",
      "MO20F0196_USGS_GAP-Geophysical_Airborne_Survey_Report.pdf ,  https://www.sciencebase.gov/catalog/file/get/624347bfd34e22d73748d357?f=__disk__74%2F20%2F44%2F74204475061ff8de80ec56112afe73f7154ce8d3 ,  17817109\n",
      "MO20F0196_GAP_FGDCmetadata.xml ,  https://www.sciencebase.gov/catalog/file/get/624347bfd34e22d73748d357?f=__disk__f8%2F4f%2F4f%2Ff84f4faecdd3f8190acbe87028f138a4a5f5e6f6 ,  25458\n"
     ]
    }
   ],
   "source": [
    "#Get the names of the file items in ScienceBase:\n",
    "#print(item_json['files'])\n",
    "# Create Arrays of process information\n",
    "jpg_files = []\n",
    "jpg_url = []\n",
    "jpg_size = []\n",
    "\n",
    "for item in item_json['files']:\n",
    "    print (item['name'],', ', item['url'], ', ', item['size'])\n",
    "    jpg_files.append(item['name'])\n",
    "    jpg_url.append(item['url'])\n",
    "    jpg_size.append(int(item['size']))"
   ]
  },
  {
   "cell_type": "code",
   "execution_count": 25,
   "metadata": {},
   "outputs": [
    {
     "name": "stdout",
     "output_type": "stream",
     "text": [
      "ZIP\n",
      "\tContractor's survey report. This report describes the survey parameters, field operations, and quality control procedures used to produce the magnetic and radiometric data.\n",
      "\n",
      "\tTransfer Size: 3300\n",
      "\n",
      "\tTransfer Size: 3300\n",
      "\n",
      "PDF\n",
      "\tContractor's survey report. This report describes the survey parameters, field operations, and quality control procedures used to produce the magnetic and radiometric data.\n",
      "\n",
      "\tTransfer Size: 2.91\n",
      "\n",
      "\tTransfer Size: 2.91\n",
      "\n",
      "JPG\n",
      "\tJ(oint) P(hotographic) E(xperts) Group (JPEG or JPG) raster image showing overview airborne magnetic and radiometric survey.\n",
      "\n",
      "\tTransfer Size: 6.2\n",
      "\n",
      "\tTransfer Size: 6.2\n",
      "\n",
      "SHP\n",
      "\tESRI Shapefile format (formerly the Environmental Systems Research Institute, Inc.) vector GIS file of survey extents (boundaries). \n",
      "\n",
      "\tTransfer Size: 0.001\n",
      "\n",
      "\tTransfer Size: 0.001\n",
      "\n",
      "SHP\n",
      "\tESRI Shapefile format (formerly the Environmental Systems Research Institute, Inc.) vector GIS file of survey flightlines. \n",
      "\n",
      "\tTransfer Size: 2.41\n",
      "\n",
      "\tTransfer Size: 2.41\n",
      "\n"
     ]
    }
   ],
   "source": [
    "# Let's get the stdorder\n",
    "# Load digform\n",
    "for digtinfo in root.iter('digtinfo'):\n",
    " formname = digtinfo.find('formname')\n",
    " print (formname.text)\n",
    " formspec = digtinfo.find('formspec')\n",
    " #print ('- ' + formspec.text + '\\n')\n",
    " formcont = digtinfo.find('formcont')\n",
    " print ('\\t' + formcont.text + '\\n')\n",
    " transize = digtinfo.find('transize')\n",
    " print ('\\tTransfer Size: ' + transize.text + '\\n')\n",
    " transize = digtinfo.find('transize')\n",
    " print ('\\tTransfer Size: ' + transize.text + '\\n')"
   ]
  },
  {
   "cell_type": "markdown",
   "metadata": {},
   "source": [
    "> - no desired changes to stdorder"
   ]
  },
  {
   "cell_type": "markdown",
   "metadata": {},
   "source": [
    "##### j.\tIf the data or metadata have been revised, correct version identification is provided (see: https://www2.usgs.gov/fsp/data_versioning.asp);"
   ]
  },
  {
   "cell_type": "markdown",
   "metadata": {},
   "source": [
    "> - **Not Applicable**"
   ]
  },
  {
   "cell_type": "markdown",
   "metadata": {},
   "source": [
    "##### k.\tContent is written in a way that is usable and helpful, without use of special formatting or characters that will fail to be transferred to XML (generally metadata should be encoded using UTF-8).**"
   ]
  },
  {
   "cell_type": "markdown",
   "metadata": {},
   "source": [
    "> - **Yes**"
   ]
  }
 ],
 "metadata": {
  "kernelspec": {
   "display_name": "Python 3 (ipykernel)",
   "language": "python",
   "name": "python3"
  },
  "language_info": {
   "codemirror_mode": {
    "name": "ipython",
    "version": 3
   },
   "file_extension": ".py",
   "mimetype": "text/x-python",
   "name": "python",
   "nbconvert_exporter": "python",
   "pygments_lexer": "ipython3",
   "version": "3.9.7"
  }
 },
 "nbformat": 4,
 "nbformat_minor": 2
}
